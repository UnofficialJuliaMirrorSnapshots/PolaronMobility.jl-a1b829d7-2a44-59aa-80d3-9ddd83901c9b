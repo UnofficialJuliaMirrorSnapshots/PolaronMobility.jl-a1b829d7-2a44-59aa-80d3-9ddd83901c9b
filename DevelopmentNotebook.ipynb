{
 "cells": [
  {
   "cell_type": "code",
   "execution_count": 1,
   "metadata": {
    "collapsed": false
   },
   "outputs": [],
   "source": [
    "# Hellwarth 1999 PRB - Part IV; T-dep of the Feynman variation parameter\n",
    "# A Friday afternoon of hacking to try and implement the T-dep electron-phonon coupling from the above PRB\n",
    "# Which was unusually successful! And more or less reproduced Table III"
   ]
  },
  {
   "cell_type": "code",
   "execution_count": 2,
   "metadata": {
    "collapsed": false
   },
   "outputs": [
    {
     "name": "stdout",
     "output_type": "stream",
     "text": [
      "Julia Version 0.5.0\n",
      "Commit 3c9d753 (2016-09-19 18:14 UTC)\n",
      "Platform Info:\n",
      "  System: Darwin (x86_64-apple-darwin13.4.0)\n",
      "  CPU: Intel(R) Core(TM) i7-6700K CPU @ 4.00GHz\n",
      "  WORD_SIZE: 64\n",
      "  BLAS: libopenblas (USE64BITINT DYNAMIC_ARCH NO_AFFINITY Haswell)\n",
      "  LAPACK: libopenblas64_\n",
      "  LIBM: libopenlibm\n",
      "  LLVM: libLLVM-3.7.1 (ORCJIT, broadwell)\n"
     ]
    }
   ],
   "source": [
    "# Just in case anyone is following this from the far future; we are using:\n",
    "versioninfo()"
   ]
  },
  {
   "cell_type": "code",
   "execution_count": 3,
   "metadata": {
    "collapsed": false
   },
   "outputs": [
    {
     "data": {
      "text/plain": [
       "F (generic function with 1 method)"
      ]
     },
     "execution_count": 3,
     "metadata": {},
     "output_type": "execute_result"
    }
   ],
   "source": [
    "# one-dimensional numerical integration in Julia using adaptive Gauss-Kronrod quadrature\n",
    "using QuadGK\n",
    "\n",
    "# Equation numbers follow above Hellwarth 1999 PRB\n",
    "# 62b\n",
    "A(v,w,β)=3/β*( log(v/w) - 1/2*log(2*π*β) - log(sinh(v*β/2)/sinh(w*β/2)))\n",
    "\n",
    "# 62d\n",
    "Y(x,v,β)=1/(1-exp(-v*β))*(1+exp(-v*β)-exp(-v*x)-exp(v*(x-β)))\n",
    "# 62c integrand\n",
    "f(x,v,w,β)=(exp(β-x)+exp(x))/(w^2*x*(1-x/β)+Y(x,v,β)*(v^2-w^2)/v)^(1/2)\n",
    "# 62c\n",
    "B(v,w,β,α) = α*v/(sqrt(π)*(exp(β)-1)) * quadgk(x->f(x,v,w,β),0,β/2)[1]\n",
    "#62e\n",
    "C(v,w,β)=3/4*(v^2-w^2)/v * (coth(v*β/2)-2/(v*β))\n",
    "\n",
    "F(v,w,β,α)=-(A(v,w,β)+B(v,w,β,α)+C(v,w,β)) #(62a)\n",
    "\n",
    "# Can now evaluate, e.g.\n",
    "# F(v,w,β,α)=F(7.2,6.5,1.0,1.0)\n",
    "# BUT - this is just the objective function! Not the optimised parameters.\n",
    "# Also there's a scary numeric integration (quadgk) buried within..."
   ]
  },
  {
   "cell_type": "code",
   "execution_count": 4,
   "metadata": {
    "collapsed": false
   },
   "outputs": [
    {
     "name": "stdout",
     "output_type": "stream",
     "text": [
      "\t\tα=1\t\tα=2\t\tα=3\t\tα=4\t\tα=5\t\t\n",
      "β: 1.0  \t||0.948149\t-0.860517\t-2.669184\t-4.477850\t-6.286517\t\n",
      "β: 1.25  \t||0.837826\t-0.797573\t-2.432973\t-4.068372\t-5.703771\t\n",
      "β: 1.5  \t||0.731167\t-0.781009\t-2.293184\t-3.805360\t-5.317535\t\n",
      "β: 1.75  \t||0.634483\t-0.786028\t-2.206538\t-3.627049\t-5.047560\t\n",
      "β: 2.0  \t||0.548050\t-0.802169\t-2.152387\t-3.502605\t-4.852824\t\n",
      "β: 2.25  \t||0.470735\t-0.824402\t-2.119538\t-3.414675\t-4.709811\t\n",
      "β: 2.5  \t||0.401226\t-0.850049\t-2.101324\t-3.352599\t-4.603874\t\n",
      "β: 2.75  \t||0.338349\t-0.877564\t-2.093476\t-3.309388\t-4.525300\t\n",
      "β: 3.0  \t||0.281128\t-0.905989\t-2.093106\t-3.280223\t-4.467340\t\n"
     ]
    }
   ],
   "source": [
    "# Print out F(alpha,beta) for a specific v,w; as a test\n",
    "@printf(\"\\t\\t\")\n",
    "for α in 1:5\n",
    "    @printf(\"α=%d\\t\\t\",α)\n",
    "end\n",
    "@printf(\"\\n\")\n",
    "\n",
    "for β in 1:0.25:3.0\n",
    "    v=w=4\n",
    "    print(\"β: $β  \\t||\")\n",
    "    for α in 1:5\n",
    "        @printf(\"%f\\t\",F(v,w,β,α))\n",
    "    end\n",
    "    println()\n",
    "end"
   ]
  },
  {
   "cell_type": "code",
   "execution_count": 5,
   "metadata": {
    "collapsed": false
   },
   "outputs": [
    {
     "name": "stdout",
     "output_type": "stream",
     "text": [
      "6.000000 0.991013\n",
      "6.100000 0.980559\n",
      "6.200000 0.971051\n",
      "6.300000 0.962484\n",
      "6.400000 0.954852\n",
      "6.500000 0.948149\n",
      "6.600000 0.942368\n",
      "6.700000 0.937501\n",
      "6.800000 0.933540\n",
      "6.900000 0.930475\n",
      "7.000000 0.928297\n",
      "7.100000 0.926997\n",
      "7.200000 0.926565\n",
      "7.300000 0.926990\n",
      "7.400000 0.928261\n",
      "7.500000 0.930368\n",
      "7.600000 0.933300\n",
      "7.700000 0.937045\n",
      "7.800000 0.941592\n",
      "7.900000 0.946930\n",
      "8.000000 0.953047\n",
      "\n",
      "6.000000 0.936794\n",
      "6.100000 0.933154\n",
      "6.200000 0.930295\n",
      "6.300000 0.928232\n",
      "6.400000 0.926983\n",
      "6.500000 0.926565\n",
      "6.600000 0.926993\n",
      "6.700000 0.928281\n",
      "6.800000 0.930446\n",
      "6.900000 0.933502\n",
      "7.000000 0.937462\n"
     ]
    }
   ],
   "source": [
    "# OK - very primitive!\n",
    "# But these are 1D traces along the solution for Alpha=Beta=1 in Helwarth PRB TABLE III,\n",
    "# this was used to correct a transcription error in the above typed-in equations\n",
    "# It was also good to see what F(v,w) looked like as a function of v and w near an optimal solution\n",
    "\n",
    "v=7.20\n",
    "w=6.5\n",
    "α=1.0\n",
    "β=1.0\n",
    "\n",
    "for v=6:0.1:8\n",
    "    @printf(\"%f %f\\n\",v,F(v,w,β,α))\n",
    "end\n",
    "\n",
    "@printf(\"\\n\")\n",
    "v=7.20\n",
    "for w=6:0.1:7\n",
    "    @printf(\"%f %f\\n\",w,F(v,w,β,α))\n",
    "end"
   ]
  },
  {
   "cell_type": "code",
   "execution_count": 6,
   "metadata": {
    "collapsed": false
   },
   "outputs": [],
   "source": [
    "# Angle for the ringside seats, when the fall, don't blame me, Bring on the Major Leagues\n",
    "using Optim\n",
    "# Julia package stuffed full of magic, does auto-differentation & etc. etc."
   ]
  },
  {
   "cell_type": "code",
   "execution_count": null,
   "metadata": {
    "collapsed": true
   },
   "outputs": [],
   "source": []
  },
  {
   "cell_type": "code",
   "execution_count": 7,
   "metadata": {
    "collapsed": false
   },
   "outputs": [
    {
     "data": {
      "text/plain": [
       "0.9265650282717047"
      ]
     },
     "execution_count": 7,
     "metadata": {},
     "output_type": "execute_result"
    }
   ],
   "source": [
    "Fopt(x) = F(x[1],x[2],1,1)\n",
    "\n",
    "Fopt([7.2,6.5])\n",
    "# OK! It looks like I can bury the alpha, beta parameters (which we don't optimise), by wrapping our function in a function definition."
   ]
  },
  {
   "cell_type": "code",
   "execution_count": 8,
   "metadata": {
    "collapsed": false
   },
   "outputs": [
    {
     "data": {
      "text/plain": [
       "Results of Optimization Algorithm\n",
       " * Algorithm: L-BFGS\n",
       " * Starting Point: [7.2,6.5]\n",
       " * Minimizer: [7.2001204422454705,6.499877874759114]\n",
       " * Minimum: 9.265650e-01\n",
       " * Iterations: 5\n",
       " * Convergence: false\n",
       "   * |x - x'| < 1.0e-32: false\n",
       "   * |f(x) - f(x')| / |f(x)| < 1.0e-32: false\n",
       "   * |g(x)| < 1.0e-08: false\n",
       "   * f(x) > f(x'): true\n",
       "   * Reached Maximum Number of Iterations: false\n",
       " * Objective Function Calls: 20\n",
       " * Gradient Calls: 20"
      ]
     },
     "execution_count": 8,
     "metadata": {},
     "output_type": "execute_result"
    }
   ],
   "source": [
    "initial=[7.2,6.5]\n",
    "\n",
    "optimize(Fopt,  initial, LBFGS())"
   ]
  },
  {
   "cell_type": "code",
   "execution_count": 9,
   "metadata": {
    "collapsed": false
   },
   "outputs": [
    {
     "data": {
      "text/plain": [
       "Results of Optimization Algorithm\n",
       " * Algorithm: BFGS\n",
       " * Starting Point: [7.2,6.5]\n",
       " * Minimizer: [7.202559224930345,6.502370805840276]\n",
       " * Minimum: 9.265650e-01\n",
       " * Iterations: 3\n",
       " * Convergence: true\n",
       "   * |x - x'| < 1.0e-32: false\n",
       "   * |f(x) - f(x')| / |f(x)| < 1.0e-32: false\n",
       "   * |g(x)| < 1.0e-08: true\n",
       "   * f(x) > f(x'): true\n",
       "   * Reached Maximum Number of Iterations: false\n",
       " * Objective Function Calls: 20\n",
       " * Gradient Calls: 20"
      ]
     },
     "execution_count": 9,
     "metadata": {},
     "output_type": "execute_result"
    }
   ],
   "source": [
    "optimize(Fopt, initial, BFGS(), Optim.Options(autodiff=true))"
   ]
  },
  {
   "cell_type": "code",
   "execution_count": 10,
   "metadata": {
    "collapsed": false
   },
   "outputs": [
    {
     "data": {
      "text/plain": [
       "Results of Optimization Algorithm\n",
       " * Algorithm: BFGS\n",
       " * Starting Point: [7.2,6.5]\n",
       " * Minimizer: [7.202559224930345,6.502370805840276]\n",
       " * Minimum: 9.265650e-01\n",
       " * Iterations: 3\n",
       " * Convergence: true\n",
       "   * |x - x'| < 1.0e-32: false\n",
       "   * |f(x) - f(x')| / |f(x)| < 1.0e-32: false\n",
       "   * |g(x)| < 1.0e-08: true\n",
       "   * f(x) > f(x'): true\n",
       "   * Reached Maximum Number of Iterations: false\n",
       " * Objective Function Calls: 20\n",
       " * Gradient Calls: 20"
      ]
     },
     "execution_count": 10,
     "metadata": {},
     "output_type": "execute_result"
    }
   ],
   "source": [
    "optimize(Fopt, initial, BFGS(), Optim.Options(autodiff=true))"
   ]
  },
  {
   "cell_type": "code",
   "execution_count": 11,
   "metadata": {
    "collapsed": false
   },
   "outputs": [
    {
     "name": "stdout",
     "output_type": "stream",
     "text": [
      "\t\tα=1\t\tα=2\t\tα=3\t\tα=4\t\tα=5\t\t\n",
      "β: 1.0  \t||7.20 6.50\t7.69 6.20\t8.26 5.87\t8.95 5.51\t9.78 5.13\t\n",
      "β: 1.25  \t||5.94 5.31\t6.38 5.03\t6.91 4.73\t7.57 4.41\t8.39 4.05\t\n",
      "β: 1.5  \t||5.11 4.54\t5.52 4.29\t6.02 4.00\t6.66 3.70\t7.48 3.37\t\n",
      "β: 1.75  \t||4.54 4.01\t4.91 3.76\t5.40 3.51\t6.02 3.22\t6.83 2.92\t\n",
      "β: 2.0  \t||4.12 3.63\t4.48 3.40\t4.94 3.16\t"
     ]
    },
    {
     "ename": "LoadError",
     "evalue": "DomainError:",
     "output_type": "error",
     "traceback": [
      "DomainError:",
      "",
      " in nan_dom_err at ./math.jl:196 [inlined]",
      " in log(::Float64) at ./math.jl:202",
      " in A(::Float64, ::Float64, ::Float64) at ./In[3]:6",
      " in F(::Float64, ::Float64, ::Float64, ::Int64) at ./In[3]:17",
      " in (::#myf#3)(::Array{Float64,1}) at ./In[11]:12",
      " in alphatry(::Float64, ::Optim.OnceDifferentiable, ::Array{Float64,1}, ::Array{Float64,1}, ::Array{Float64,1}, ::Array{Float64,1}, ::LineSearches.LineSearchResults{Float64}, ::Float64, ::Float64, ::Float64, ::Int64, ::Float64, ::Bool) at /Users/jarvist/.julia/v0.5/LineSearches/src/api.jl:26",
      " in alphaguess!(::Optim.ConjugateGradientState{Float64,1,Array{Float64,1}}, ::Optim.ConjugateGradient{Void,Optim.##29#31,LineSearches.#hagerzhang!}, ::Float64, ::Optim.OnceDifferentiable) at /Users/jarvist/.julia/v0.5/Optim/src/utilities/perform_linesearch.jl:57",
      " in perform_linesearch!(::Optim.ConjugateGradientState{Float64,1,Array{Float64,1}}, ::Optim.ConjugateGradient{Void,Optim.##29#31,LineSearches.#hagerzhang!}, ::Optim.OnceDifferentiable) at /Users/jarvist/.julia/v0.5/Optim/src/utilities/perform_linesearch.jl:70",
      " in update_state!(::Optim.OnceDifferentiable, ::Optim.ConjugateGradientState{Float64,1,Array{Float64,1}}, ::Optim.ConjugateGradient{Void,Optim.##29#31,LineSearches.#hagerzhang!}) at /Users/jarvist/.julia/v0.5/Optim/src/cg.jl:144",
      " in optimize(::Optim.OnceDifferentiable, ::Array{Float64,1}, ::Optim.ConjugateGradient{Void,Optim.##29#31,LineSearches.#hagerzhang!}, ::Optim.Options{Void}) at /Users/jarvist/.julia/v0.5/Optim/src/optimize.jl:196",
      " in optimize(::#myf#3, ::Array{Float64,1}, ::Optim.ConjugateGradient{Void,Optim.##29#31,LineSearches.#hagerzhang!}, ::Optim.Options{Void}) at /Users/jarvist/.julia/v0.5/Optim/src/optimize.jl:116",
      " in macro expansion; at ./In[11]:13 [inlined]",
      " in anonymous at ./<missing>:?"
     ]
    }
   ],
   "source": [
    "# Right! The above looks like this might actually just work...\n",
    "\n",
    "@printf(\"\\t\\t\")\n",
    "for α in 1:5\n",
    "    @printf(\"α=%d\\t\\t\",α)\n",
    "end\n",
    "@printf(\"\\n\")\n",
    "\n",
    "for β in 1:0.25:3.0\n",
    "    print(\"β: $β  \\t||\")\n",
    "    for α in 1:5\n",
    "        myf(x) = F(x[1],x[2],β,α)\n",
    "        solution=Optim.minimizer(optimize(myf, initial,ConjugateGradient(), Optim.Options(autodiff=true)))\n",
    "        \n",
    "        #print(solution,\"\\t\")\n",
    "        @printf(\"%.2f %.2f\\t\",solution[1],solution[2])\n",
    "    end\n",
    "    println()\n",
    "end"
   ]
  },
  {
   "cell_type": "code",
   "execution_count": 12,
   "metadata": {
    "collapsed": false
   },
   "outputs": [
    {
     "name": "stdout",
     "output_type": "stream",
     "text": [
      "\t\tα=1\t\tα=2\t\tα=3\t\tα=4\t\tα=5\t\t\n",
      "β: 1.0  \t||"
     ]
    },
    {
     "name": "stderr",
     "output_type": "stream",
     "text": [
      "\u001b[1m\u001b[31mWARNING: DifferentiableFunction(args...) is deprecated, use OnceDifferentiable(args...) instead.\u001b[0m\n",
      " in depwarn(::String, ::Symbol) at ./deprecated.jl:64\n",
      " in DifferentiableFunction(::Function, ::Vararg{Function,N}) at ./deprecated.jl:50\n",
      " in macro expansion; at ./In[12]:19 [inlined]\n",
      " in anonymous at ./<missing>:?\n",
      " in include_string(::String, ::String) at ./loading.jl:441\n",
      " in execute_request(::ZMQ.Socket, ::IJulia.Msg) at /Users/jarvist/.julia/v0.5/IJulia/src/execute_request.jl:157\n",
      " in eventloop(::ZMQ.Socket) at /Users/jarvist/.julia/v0.5/IJulia/src/eventloop.jl:8\n",
      " in (::IJulia.##13#19)() at ./task.jl:360\n",
      "while loading In[12], in expression starting on line 15\n",
      "WARNING: could not attach metadata for @simd loop.\n"
     ]
    },
    {
     "name": "stdout",
     "output_type": "stream",
     "text": [
      "7.20 6.50\t7.68 6.19\t8.05 5.66\t8.94 5.50\t9.78 5.12\t\n",
      "β: 1.25  \t||5.87 5.25\t6.33 4.99\t6.92 4.74\t7.56 4.40\t8.39 4.05\t\n",
      "β: 1.5  \t||5.08 4.50\t5.52 4.28\t6.01 4.00\t6.61 3.66\t7.48 3.37\t\n",
      "β: 1.75  \t||4.58 4.05\t4.91 3.76\t5.39 3.50\t6.02 3.23\t6.84 2.92\t\n",
      "β: 2.0  \t||4.14 3.65\t4.49 3.42\t4.94 3.16\t5.54 2.89\t6.36 2.60\t\n",
      "β: 2.25  \t||3.81 3.35\t4.14 3.13\t4.59 2.89\t5.18 2.64\t6.00 2.37\t\n",
      "β: 2.5  \t||3.59 3.15\t3.90 2.94\t4.31 2.70\t4.90 2.46\t5.71 2.20\t\n",
      "β: 2.75  \t||3.41 2.99\t3"
     ]
    },
    {
     "name": "stderr",
     "output_type": "stream",
     "text": [
      "\u001b[1m\u001b[31mWARNING: Linesearch failed, using alpha = 0.14412411949331552 and exiting optimization.\u001b[0m\n"
     ]
    },
    {
     "name": "stdout",
     "output_type": "stream",
     "text": [
      ".70 2.77\t4.11 2.56\t4.67 2.32\t5.48 2.07\t\n",
      "β: 3.0  \t||3.25 2.85\t3.54 2.65\t3.93 2.44\t4.49 2.22\t5.29 1.97\t\n"
     ]
    }
   ],
   "source": [
    "# After a bit of fiddling, I figured out how to add bounds, to stop that 'DomainError', \n",
    "# which occurs where the you are evaluating log(-ve Real), i.e. w<0.0 or v<0.0\n",
    "\n",
    "initial=[7.2,6.5]\n",
    "\n",
    "lower=[0.0,0.0]\n",
    "upper=[10.0,10.0]\n",
    "\n",
    "@printf(\"\\t\\t\")\n",
    "for α in 1:5\n",
    "    @printf(\"α=%d\\t\\t\",α)\n",
    "end\n",
    "@printf(\"\\n\")\n",
    "\n",
    "for β in 1:0.25:3.0\n",
    "    print(\"β: $β  \\t||\")\n",
    "    for α in 1:5\n",
    "        myf(x) = F(x[1],x[2],β,α)\n",
    "        solution=optimize(DifferentiableFunction(myf), initial, lower, upper, Fminbox(); optimizer = ConjugateGradient, optimizer_o=Optim.Options(autodiff=true))\n",
    "        minimum=Optim.minimizer(solution)\n",
    "        \n",
    "        v=minimum[1]\n",
    "        w=minimum[2]\n",
    "        #print(solution,\"\\t\")\n",
    "        @printf(\"%.2f %.2f\\t\",v,w)\n",
    "        \n",
    "        \n",
    "    end\n",
    "    println()\n",
    "end"
   ]
  },
  {
   "cell_type": "code",
   "execution_count": 13,
   "metadata": {
    "collapsed": false
   },
   "outputs": [
    {
     "name": "stdout",
     "output_type": "stream",
     "text": [
      "\n",
      "\t\t##### NOW TRIALING: Optim.BFGS{L<:Function,H<:Function} #####\n",
      "\n",
      "\t\tα=1\t\tα=2\t\tα=3\t\tα=4\t\tα=5\t\t\n",
      "β: 1.0  \t||7.15 6.45\t7.68 6.19\t8.26 5.87\t8.94 5.51\t9.78 5.13\t\n",
      "β: 1.25  \t||5.94 5.31\t6.35 5.01\t6.91 4.73\t7.57 4.41\t8.39 4.05\t\n",
      "β: 1.5  \t||5.11 4.53\t5.54 4.31\t6.01 4.00\t6.67 3.71\t7.48 3.38\t\n",
      "β: 1.75  \t||4.55 4.02\t4.94 3.80\t5.39 3.51\t6.02 3.23\t6.83 2.92\t\n",
      "β: 2.0  \t||4.15 3.66\t4.48 3.41\t4.93 3.15\t5.55 2.89\t6.38 2.62\t\n",
      "β: 2.25  \t||3.80 3.34\t4.16 3.14\t4.59 2.90\t5.18 2.64\t5.99 2.37\t\n",
      "β: 2.5  \t||3.58 3.14\t3.89 2.92\t4.32 2.70\t4.90 2.45\t5.71 2.20\t\n",
      "β: 2.75  \t||3.38 2.97\t3.70 2.78\t4.11 2.56\t4.67 2.32\t5.48 2.07\t\n",
      "β: 3.0  \t||3.27 2.87\t3.54 2.65\t3.93 2.43\t4.48 2.21\t5.29 1.97\t\n",
      "\n",
      "\t\t##### NOW TRIALING: Optim.LBFGS{T,L<:Function,Tprep<:Union{Function,Void}} #####\n",
      "\n",
      "\t\tα=1\t\tα=2\t\tα=3\t\tα=4\t\tα=5\t\t\n",
      "β: 1.0  \t||7.15 6.45\t7.70 6.21\t8.26 5.86\t8.95 5.51\t9.79 5.13\t\n",
      "β: 1.25  \t||5.94 5.31\t6.36 5.01\t6.90 4.72\t7.57 4.41\t8.39 4.05\t\n",
      "β: 1.5  \t||5.13 4.56\t5.53 4.30\t6.03 4.02\t6.67 3.72\t7.48 3.38\t\n",
      "β: 1.75  \t||4.53 4.01\t4.93 3.79\t5.40 3.51\t6.02 3.23\t6.83 2.92\t\n",
      "β: 2.0  \t||4.17 3.67\t"
     ]
    },
    {
     "name": "stderr",
     "output_type": "stream",
     "text": [
      "\u001b[1m\u001b[31mWARNING: Linesearch failed, using alpha = 2.686099948427937e-11 and exiting optimization.\u001b[0m\n"
     ]
    },
    {
     "name": "stdout",
     "output_type": "stream",
     "text": [
      "4.49 3.41\t4.94 3.16\t5.54 2.88\t6.36 2.60\t\n",
      "β: 2.25  \t||3.81 3.35\t4.15 3.14\t4.59 2.90\t5.18 2.64\t6.00 2.37\t\n",
      "β: 2.5  \t||3.58 3.14\t3.89 2.93\t4.32 2.70\t4.90 2.46\t5.71 2.20\t\n",
      "β: 2.75  \t||3.38 2.96\t3.70 2.78\t4.10 2.55\t4.67 2.32\t5.48 2.07\t\n",
      "β: 3.0  \t||3.25 2.85\t3.54 2.65\t3.92 2.43\t4.49 2.21\t5.29 1.97\t\n",
      "\n",
      "\t\t##### NOW TRIALING: Optim.ConjugateGradient{T,Tprep<:Union{Function,Void},L<:Function} #####\n",
      "\n",
      "\t\tα=1\t\tα=2\t\tα=3\t\tα=4\t\tα=5\t\t\n",
      "β: 1.0  \t||7.15 6.45\t7.67 6.18\t8.19 5.80\t8.95 5.51\t9.78 5.12\t\n",
      "β: 1.25  \t||5.91 5.28\t6.35 5.01\t6.89 4.72\t7.56 4.40\t8.39 4.05\t\n",
      "β: 1.5  \t||5.11 4.54\t5.53 4.30\t6.04 4.02\t6.66 3.70\t7.48 3.37\t\n",
      "β: 1.75  \t||4.53 4.00\t4.93 3.78\t5.40 3.51\t6.02 3.22\t6.83 2.92\t\n",
      "β: 2.0  \t||4.17 3.67\t4.47 3.39\t4.93 3.15\t5.54 2.88\t6.36 2.60\t\n",
      "β: 2.25  \t||3.82 3.35\t4.15 3.13\t4.59 2.90\t5.18 2.64\t6.00 2.37\t\n",
      "β: 2.5  \t||3.57 3.13\t3.91 2.94\t4.32 2.70\t4.90 2.45\t5.71 2.20\t\n",
      "β: 2.75  \t||3.38 2.96\t3.69 2.77\t4.10 2.55\t4.67 2.32\t5.48 2.07\t\n",
      "β: 3.0  \t||3.27 2.87\t3.53 2.65\t3.92 2.43\t4.49 2.21\t5.29 1.97\t\n"
     ]
    }
   ],
   "source": [
    "# So that looks really good! I was super stoked to see how close these values are to TABLE III in Hellwarth\n",
    "# However, the solutions all start on (7.20,6.50) so that top-left data point is cheating, whereas the \n",
    "# others have some disagreement / noise associated with them\n",
    "# I was wondering whether it might be a function of the optimiser, so thought I'd try them all\n",
    "\n",
    "initial=[7.1,6.5]\n",
    "# Main use of these bounds is stopping v or w going negative, at which you get a NaN error as you are evaluating log(-ve Real)\n",
    "lower=[1.0,1.0]\n",
    "upper=[10.0,10.0]\n",
    "\n",
    "for optimizer in [BFGS, LBFGS, ConjugateGradient] # Newton, GradientDescent, NelderMead - steps outside box & log(-ve)->NaN error\n",
    "    @printf(\"\\n\\t\\t##### NOW TRIALING: %s #####\\n\\n\",optimizer)\n",
    "\n",
    "    @printf(\"\\t\\t\")\n",
    "    for α in 1:5\n",
    "        @printf(\"α=%d\\t\\t\",α)\n",
    "    end\n",
    "    @printf(\"\\n\")\n",
    "\n",
    "    for β in 1:0.25:3.0\n",
    "        print(\"β: $β  \\t||\")\n",
    "        for α in 1:5\n",
    "            myf(x) = F(x[1],x[2],β,α)\n",
    "            res=optimize(DifferentiableFunction(myf), initial, lower, upper, Fminbox(); optimizer = optimizer, optimizer_o=Optim.Options(autodiff=true))\n",
    "            minimum=Optim.minimizer(res)\n",
    "            #show(Optim.converged(res)) # All came out as 'true'\n",
    "                \n",
    "            #print(solution,\"\\t\")\n",
    "            @printf(\"%.2f %.2f\\t\",minimum[1],minimum[2])\n",
    "        end\n",
    "        println()\n",
    "    end\n",
    "end"
   ]
  },
  {
   "cell_type": "code",
   "execution_count": 14,
   "metadata": {
    "collapsed": true
   },
   "outputs": [],
   "source": [
    "# So why the (slight) disagreement? I don't really know.\n",
    "# It may well be that Julia has a much better control of errors, \n",
    "# certainly the Optim package (optimisation) defaults seem to be at the Machine-precision end of the world, \n",
    "# and a lot of intermediates will be Float64 or larger.\n",
    "\n",
    "# The objective function seems quite flat in the vicinity of the optimum, so this would also explain some of the variance."
   ]
  },
  {
   "cell_type": "code",
   "execution_count": 15,
   "metadata": {
    "collapsed": false
   },
   "outputs": [
    {
     "name": "stdout",
     "output_type": "stream",
     "text": [
      "Reduced mass: 0.17100885128857163\n",
      "Feynman Polaron Radius: 1.3542783798281395\n"
     ]
    }
   ],
   "source": [
    "# OK, now Ref 9; Schultz PR Volume 116, Number 3, Nov 1959\n",
    "const MassElectron = 9.10938188e-31;                          # kg\n",
    "v=7.15 \n",
    "w=6.51\n",
    "\n",
    "m=1.0 #MassElectron\n",
    "# Eqn (2.4)\n",
    "μ=m*(v^2-w^2)/v^2\n",
    "println(\"Reduced mass: $μ\")\n",
    "rf=(3/2*μ*v)^(1/2)\n",
    "println(\"Feynman Polaron Radius: $rf\")\n",
    "\n",
    "# Units?!? Bohr?"
   ]
  },
  {
   "cell_type": "code",
   "execution_count": 16,
   "metadata": {
    "collapsed": false
   },
   "outputs": [
    {
     "name": "stdout",
     "output_type": "stream",
     "text": [
      "α=2.395940\n",
      "T: 10"
     ]
    },
    {
     "name": "stderr",
     "output_type": "stream",
     "text": [
      "WARNING: Method definition k(Any, Any, Any, Any) in module Main at In[16]:91 overwritten at In[16]:104.\n"
     ]
    },
    {
     "name": "stdout",
     "output_type": "stream",
     "text": [
      ".000000 β: 7.2e+21 βred: 11\t v= 3.07 w= 2.34\t M=0.717178 k=3.925527\t\n",
      " Polaron Es: A= -1.600060 B= 2.665654 C= 0.902304 F= -1.967899\n",
      "\tμ(FHIP)= 66.070065 m^2/Vs \t= 660700.65 cm^2/Vs\n",
      "\tμ(Kadanoff)= 475.628885 m^2/Vs \t= 4756288.85 cm^2/Vs\n",
      "\tμ(Hellwarth1999)= 65.805034 m^2/Vs \t= 658050.34 cm^2/Vs\n",
      "\tμ(Hellwarth1999,b=0)= 65.805034 m^2/Vs \t= 658050.34 cm^2/Vs\n",
      "\n",
      "T: 20.000000 β: 3.6e+21 βred: 5.4\t v= 3.05 w= 2.19\t M=0.936635 k=4.507233\t\n",
      " Polaron Es: A= -2.084111 B= 2.802278 C= 0.972966 F= -1.691132\n",
      "\tμ(FHIP)= 0.536442 m^2/Vs \t= 5364.42 cm^2/Vs\n",
      "\tμ(Kadanoff)= 1.930883 m^2/Vs \t= 19308.83 cm^2/Vs\n",
      "\tμ(Hellwarth1999)= 0.549768 m^2/Vs \t= 5497.68 cm^2/Vs\n",
      "\tμ(Hellwarth1999,b=0)= 0.549774 m^2/Vs \t= 5497.74 cm^2/Vs\n",
      "\n",
      "T: 30.000000 β: 2.4e+21 βred: 3.6\t v= 3.40 w= 2.38\t M=1.038341 k=5.897853\t\n",
      " Polaron Es: A= -2.532044 B= 2.991060 C= 1.087716 F= -1.546732\n",
      "\tμ(FHIP)= 0.123011 m^2/Vs \t= 1230.11 cm^2/Vs\n",
      "\tμ(Kadanoff)= 0.295180 m^2/Vs \t= 2951.80 cm^2/Vs\n",
      "\tμ(Hellwarth1999)= 0.125538 m^2/Vs \t= 1255.38 cm^2/Vs\n",
      "\tμ(Hellwarth1999,b=0)= 0.125556 m^2/Vs \t= 1255.56 cm^2/Vs\n",
      "\n",
      "T: 40.000000 β: 1.8e+21 βred: 2.7\t v= 3.88 w= 2.71\t M=1.043141 k=7.670766\t\n",
      " Polaron Es: A= -2.923283 B= 3.206224 C= 1.200633 F= -1.483573\n",
      "\tμ(FHIP)= 0.064106 m^2/Vs \t= 641.06 cm^2/Vs\n",
      "\tμ(Kadanoff)= 0.115372 m^2/Vs \t= 1153.72 cm^2/Vs\n",
      "\tμ(Hellwarth1999)= 0.062468 m^2/Vs \t= 624.68 cm^2/Vs\n",
      "\tμ(Hellwarth1999,b=0)= 0.062493 m^2/Vs \t= 624.93 cm^2/Vs\n",
      "\n",
      "T: 50.000000 β: 1.4e+21 βred: 2.2\t v= 4.43 w= 3.14\t M=0.993887 k=9.778537\t\n",
      " Polaron Es: A= -3.272166 B= 3.428589 C= 1.309852 F= -1.466276\n",
      "\tμ(FHIP)= 0.046323 m^2/Vs \t= 463.23 cm^2/Vs\n",
      "\tμ(Kadanoff)= 0.066695 m^2/Vs \t= 666.95 cm^2/Vs\n",
      "\tμ(Hellwarth1999)= 0.041834 m^2/Vs \t= 418.34 cm^2/Vs\n",
      "\tμ(Hellwarth1999,b=0)= 0.041860 m^2/Vs \t= 418.60 cm^2/Vs\n",
      "\n",
      "T: 60.000000 β: 1.2e+21 βred: 1.8\t v= 5.01 w= 3.60\t M=0.932777 k=12.104642\t\n",
      " Polaron Es: A= -3.583400 B= 3.648868 C= 1.410942 F= -1.476410\n",
      "\tμ(FHIP)= 0.039117 m^2/Vs \t= 391.17 cm^2/Vs\n",
      "\tμ(Kadanoff)= 0.046934 m^2/Vs \t= 469.34 cm^2/Vs\n",
      "\tμ(Hellwarth1999)= 0.032315 m^2/Vs \t= 323.15 cm^2/Vs\n",
      "\tμ(Hellwarth1999,b=0)= 0.032341 m^2/Vs \t= 323.41 cm^2/Vs\n",
      "\n",
      "T: 70.000000 β: 1e+21 βred: 1.5\t v= 5.59 w= 4.08\t M=0.875977 k=14.575977\t\n",
      " Polaron Es: A= -3.861992 B= 3.863229 C= 1.503309 F= -1.504546\n",
      "\tμ(FHIP)= 0.035834 m^2/Vs \t= 358.34 cm^2/Vs\n",
      "\tμ(Kadanoff)= 0.036852 m^2/Vs \t= 368.52 cm^2/Vs\n",
      "\tμ(Hellwarth1999)= 0.026984 m^2/Vs \t= 269.84 cm^2/Vs\n",
      "\tμ(Hellwarth1999,b=0)= 0.027010 m^2/Vs \t= 270.10 cm^2/Vs\n",
      "\n",
      "T: 80.000000 β: 9.1e+20 βred: 1.3\t v= 6.20 w= 4.60\t M=0.818309 k=17.284999\t\n",
      " Polaron Es: A= -4.117442 B= 4.070393 C= 1.592655 F= -1.545606\n",
      "\tμ(FHIP)= 0.034525 m^2/Vs \t= 345.25 cm^2/Vs\n",
      "\tμ(Kadanoff)= 0.031068 m^2/Vs \t= 310.68 cm^2/Vs\n",
      "\tμ(Hellwarth1999)= 0.023628 m^2/Vs \t= 236.28 cm^2/Vs\n",
      "\tμ(Hellwarth1999,b=0)= 0.023653 m^2/Vs \t= 236.53 cm^2/Vs\n",
      "\n",
      "T: 90.000000 β: 8e+20 βred: 1.2\t v= 6.81 w= 5.12\t M=0.768311 k=20.137051\t\n",
      " Polaron Es: A= -4.349941 B= 4.270106 C= 1.676505 F= -1.596670\n",
      "\tμ(FHIP)= 0.034197 m^2/Vs \t= 341.97 cm^2/Vs\n",
      "\tμ(Kadanoff)= 0.027353 m^2/Vs \t= 273.53 cm^2/Vs\n",
      "\tμ(Hellwarth1999)= 0.021319 m^2/Vs \t= 213.19 cm^2/Vs\n",
      "\tμ(Hellwarth1999,b=0)= 0.021344 m^2/Vs \t= 213.44 cm^2/Vs\n",
      "\n",
      "T: 100.000000 β: 7.2e+20 βred: 1.1\t v= 7.44 w= 5.67\t M=0.721276 k=23.206994\t\n",
      " Polaron Es: A= -4.564918 B= 4.462616 C= 1.758244 F= -1.655942\n",
      "\tμ(FHIP)= 0.034537 m^2/Vs \t= 345.37 cm^2/Vs\n",
      "\tμ(Kadanoff)= 0.024862 m^2/Vs \t= 248.62 cm^2/Vs\n",
      "\tμ(Hellwarth1999)= 0.019640 m^2/Vs \t= 196.40 cm^2/Vs\n",
      "\tμ(Hellwarth1999,b=0)= 0.019664 m^2/Vs \t= 196.64 cm^2/Vs\n",
      "\n",
      "T: 110.000000 β: 6.6e+20 βred: 0.98\t v= 8.04 w= 6.19\t M=0.685518 k=26.277638\t\n",
      " Polaron Es: A= -4.758244 B= 4.648258 C= 1.832242 F= -1.722255\n",
      "\tμ(FHIP)= 0.035129 m^2/Vs \t= 351.29 cm^2/Vs\n",
      "\tμ(Kadanoff)= 0.022990 m^2/Vs \t= 229.90 cm^2/Vs\n",
      "\tμ(Hellwarth1999)= 0.018337 m^2/Vs \t= 183.37 cm^2/Vs\n",
      "\tμ(Hellwarth1999,b=0)= 0.018361 m^2/Vs \t= 183.61 cm^2/Vs\n",
      "\n",
      "T: 120.000000 β: 6e+20 βred: 0.9\t v= 8.82 w= 6.90\t M=0.632726 k=30.148556\t\n",
      " Polaron Es: A= -4.952218 B= 4.827589 C= 1.919424 F= -1.794795\n",
      "\tμ(FHIP)= 0.036540 m^2/Vs \t= 365.40 cm^2/Vs\n",
      "\tμ(Kadanoff)= 0.021920 m^2/Vs \t= 219.20 cm^2/Vs\n",
      "\tμ(Hellwarth1999)= 0.017374 m^2/Vs \t= 173.74 cm^2/Vs\n",
      "\tμ(Hellwarth1999,b=0)= 0.017394 m^2/Vs \t= 173.94 cm^2/Vs\n",
      "\n",
      "T: 130.000000 β: 5.6e+20 βred: 0.83\t v= 9.27 w= 7.28\t M=0.621159 k=32.937989\t\n",
      " Polaron Es: A= -5.102904 B= 5.001018 C= 1.974882 F= -1.872996\n",
      "\tμ(FHIP)= 0.037157 m^2/Vs \t= 371.57 cm^2/Vs\n",
      "\tμ(Kadanoff)= 0.020576 m^2/Vs \t= 205.76 cm^2/Vs\n",
      "\tμ(Hellwarth1999)= 0.016470 m^2/Vs \t= 164.70 cm^2/Vs\n",
      "\tμ(Hellwarth1999,b=0)= 0.016493 m^2/Vs \t= 164.93 cm^2/Vs\n",
      "\n",
      "T: 140.000000 β: 5.2e+20 βred: 0.77\t v= 9.88 w= 7.82\t M=0.595431 k=36.398685\t\n",
      " Polaron Es: A= -5.253834 B= 5.169039 C= 2.041192 F= -1.956397\n",
      "\tμ(FHIP)= 0.038368 m^2/Vs \t= 383.68 cm^2/Vs\n",
      "\tμ(Kadanoff)= 0.019729 m^2/Vs \t= 197.29 cm^2/Vs\n",
      "\tμ(Hellwarth1999)= 0.015763 m^2/Vs \t= 157.63 cm^2/Vs\n",
      "\tμ(Hellwarth1999,b=0)= 0.015786 m^2/Vs \t= 157.86 cm^2/Vs\n",
      "\n",
      "T: 150.000000 β: 4.8e+20 βred: 0.72\t v= 10.55 w= 8.43\t M=0.566543 k=40.248407\t\n",
      " Polaron Es: A= -5.398142 B= 5.332062 C= 2.110736 F= -2.044656\n",
      "\tμ(FHIP)= 0.039870 m^2/Vs \t= 398.70 cm^2/Vs\n",
      "\tμ(Kadanoff)= 0.019134 m^2/Vs \t= 191.34 cm^2/Vs\n",
      "\tμ(Hellwarth1999)= 0.015179 m^2/Vs \t= 151.79 cm^2/Vs\n",
      "\tμ(Hellwarth1999,b=0)= 0.015200 m^2/Vs \t= 152.00 cm^2/Vs\n",
      "\n",
      "T: 160.000000 β: 4.5e+20 βred: 0.67\t v= 11.11 w= 8.93\t M=0.548981 k=43.775981\t\n",
      " Polaron Es: A= -5.522658 B= 5.490427 C= 2.169721 F= -2.137490\n",
      "\tμ(FHIP)= 0.041172 m^2/Vs \t= 411.72 cm^2/Vs\n",
      "\tμ(Kadanoff)= 0.018525 m^2/Vs \t= 185.25 cm^2/Vs\n",
      "\tμ(Hellwarth1999)= 0.014645 m^2/Vs \t= 146.45 cm^2/Vs\n",
      "\tμ(Hellwarth1999,b=0)= 0.014667 m^2/Vs \t= 146.67 cm^2/Vs\n",
      "\n",
      "T: 170.000000 β: 4.3e+20 βred: 0.64\t v= 11.78 w= 9.54\t M=0.525541 k=47.842191\t\n",
      " Polaron Es: A= -5.644525 B= 5.644493 C= 2.234695 F= -2.234663\n",
      "\tμ(FHIP)= 0.042810 m^2/Vs \t= 428.10 cm^2/Vs\n",
      "\tμ(Kadanoff)= 0.018128 m^2/Vs \t= 181.28 cm^2/Vs\n",
      "\tμ(Hellwarth1999)= 0.014200 m^2/Vs \t= 142.00 cm^2/Vs\n",
      "\tμ(Hellwarth1999,b=0)= 0.014221 m^2/Vs \t= 142.21 cm^2/Vs\n",
      "\n",
      "T: 180.000000 β: 4e+20 βred: 0.6\t v= 11.92 w= 9.61\t M=0.539012 k=49.793790\t\n",
      " Polaron Es: A= -5.719835 B= 5.794564 C= 2.261224 F= -2.335952\n",
      "\tμ(FHIP)= 0.043209 m^2/Vs \t= 432.09 cm^2/Vs\n",
      "\tμ(Kadanoff)= 0.017281 m^2/Vs \t= 172.81 cm^2/Vs\n",
      "\tμ(Hellwarth1999)= 0.013693 m^2/Vs \t= 136.93 cm^2/Vs\n",
      "\tμ(Hellwarth1999,b=0)= 0.013720 m^2/Vs \t= 137.20 cm^2/Vs\n",
      "\n",
      "T: 190.000000 β: 3.8e+20 βred: 0.57\t v= 13.02 w= 10.66\t M=0.491475 k=55.867270\t\n",
      " Polaron Es: A= -5.851908 B= 5.940951 C= 2.352199 F= -2.441241\n",
      "\tμ(FHIP)= 0.045977 m^2/Vs \t= 459.77 cm^2/Vs\n",
      "\tμ(Kadanoff)= 0.017420 m^2/Vs \t= 174.20 cm^2/Vs\n",
      "\tμ(Hellwarth1999)= 0.013428 m^2/Vs \t= 134.28 cm^2/Vs\n",
      "\tμ(Hellwarth1999,b=0)= 0.013448 m^2/Vs \t= 134.48 cm^2/Vs\n",
      "\n",
      "T: 200.000000 β: 3.6e+20 βred: 0.54\t v= 13.67 w= 11.25\t M=0.474993 k=60.157077\t\n",
      " Polaron Es: A= -5.944025 B= 6.083832 C= 2.410509 F= -2.550316\n",
      "\tμ(FHIP)= 0.047689 m^2/Vs \t= 476.89 cm^2/Vs\n",
      "\tμ(Kadanoff)= 0.017165 m^2/Vs \t= 171.65 cm^2/Vs\n",
      "\tμ(Hellwarth1999)= 0.013103 m^2/Vs \t= 131.03 cm^2/Vs\n",
      "\tμ(Hellwarth1999,b=0)= 0.013122 m^2/Vs \t= 131.22 cm^2/Vs\n",
      "\n",
      "T: 210.000000 β: 3.4e+20 βred: 0.51\t v= 14.32 w= 11.85\t M=0.459763 k=64.560009\t\n",
      " Polaron Es: A= -6.027889 B= 6.223455 C= 2.467490 F= -2.663056\n",
      "\tμ(FHIP)= 0.049438 m^2/Vs \t= 494.38 cm^2/Vs\n",
      "\tμ(Kadanoff)= 0.016947 m^2/Vs \t= 169.47 cm^2/Vs\n",
      "\tμ(Hellwarth1999)= 0.012807 m^2/Vs \t= 128.07 cm^2/Vs\n",
      "\tμ(Hellwarth1999,b=0)= 0.012826 m^2/Vs \t= 128.26 cm^2/Vs\n",
      "\n",
      "T: 220.000000 β: 3.3e+20 βred: 0.49\t v= 14.87 w= 12.35\t M=0.449844 k=68.632806\t\n",
      " Polaron Es: A= -6.098157 B= 6.360046 C= 2.517446 F= -2.779335\n",
      "\tμ(FHIP)= 0.051020 m^2/Vs \t= 510.20 cm^2/Vs\n",
      "\tμ(Kadanoff)= 0.016695 m^2/Vs \t= 166.95 cm^2/Vs\n",
      "\tμ(Hellwarth1999)= 0.012521 m^2/Vs \t= 125.21 cm^2/Vs\n",
      "\tμ(Hellwarth1999,b=0)= 0.012540 m^2/Vs \t= 125.40 cm^2/Vs\n",
      "\n",
      "T: 230.000000 β: 3.1e+20 βred: 0.47\t v= 15.53 w= 12.96\t M=0.436400 k=73.257624\t\n",
      " Polaron Es: A= -6.167166 B= 6.493767 C= 2.572436 F= -2.899037\n",
      "\tμ(FHIP)= 0.052834 m^2/Vs \t= 528.34 cm^2/Vs\n",
      "\tμ(Kadanoff)= 0.016537 m^2/Vs \t= 165.37 cm^2/Vs\n",
      "\tμ(Hellwarth1999)= 0.012271 m^2/Vs \t= 122.71 cm^2/Vs\n",
      "\tμ(Hellwarth1999,b=0)= 0.012290 m^2/Vs \t= 122.90 cm^2/Vs\n",
      "\n",
      "T: 240.000000 β: 3e+20 βred: 0.45\t v= 16.17 w= 13.55\t M=0.424565 k=77.910052\t\n",
      " Polaron Es: A= -6.228164 B= 6.624797 C= 2.625423 F= -3.022057\n",
      "\tμ(FHIP)= 0.054638 m^2/Vs \t= 546.38 cm^2/Vs\n",
      "\tμ(Kadanoff)= 0.016389 m^2/Vs \t= 163.89 cm^2/Vs\n",
      "\tμ(Hellwarth1999)= 0.012037 m^2/Vs \t= 120.37 cm^2/Vs\n",
      "\tμ(Hellwarth1999,b=0)= 0.012056 m^2/Vs \t= 120.56 cm^2/Vs\n",
      "\n",
      "T: 250.000000 β: 2.9e+20 βred: 0.43\t v= 16.77 w= 14.10\t M=0.414700 k=82.486734\t\n",
      " Polaron Es: A= -6.280214 B= 6.753264 C= 2.675246 F= -3.148296\n",
      "\tμ(FHIP)= 0.056398 m^2/Vs \t= 563.98 cm^2/Vs\n",
      "\tμ(Kadanoff)= 0.016240 m^2/Vs \t= 162.40 cm^2/Vs\n",
      "\tμ(Hellwarth1999)= 0.011816 m^2/Vs \t= 118.16 cm^2/Vs\n",
      "\tμ(Hellwarth1999,b=0)= 0.011834 m^2/Vs \t= 118.34 cm^2/Vs\n",
      "\n",
      "T: 260.000000 β: 2.8e+20 βred: 0.42\t v= 17.43 w= 14.71\t M=0.403956 k=87.375205\t\n",
      " Polaron Es: A= -6.328396 B= 6.879325 C= 2.726733 F= -3.277663\n",
      "\tμ(FHIP)= 0.058261 m^2/Vs \t= 582.61 cm^2/Vs\n",
      "\tμ(Kadanoff)= 0.016131 m^2/Vs \t= 161.31 cm^2/Vs\n",
      "\tμ(Hellwarth1999)= 0.011614 m^2/Vs \t= 116.14 cm^2/Vs\n",
      "\tμ(Hellwarth1999,b=0)= 0.011631 m^2/Vs \t= 116.31 cm^2/Vs\n",
      "\n",
      "T: 270.000000 β: 2.7e+20 βred: 0.4\t v= 18.01 w= 15.24\t M=0.396123 k=91.995729\t\n",
      " Polaron Es: A= -6.366352 B= 7.003106 C= 2.773317 F= -3.410072\n",
      "\tμ(FHIP)= 0.060010 m^2/Vs \t= 600.10 cm^2/Vs\n",
      "\tμ(Kadanoff)= 0.016000 m^2/Vs \t= 160.00 cm^2/Vs\n",
      "\tμ(Hellwarth1999)= 0.011417 m^2/Vs \t= 114.17 cm^2/Vs\n",
      "\tμ(Hellwarth1999,b=0)= 0.011434 m^2/Vs \t= 114.34 cm^2/Vs\n",
      "\n",
      "T: 280.000000 β: 2.6e+20 βred: 0.39\t v= 18.61 w= 15.80\t M=0.387824 k=96.831432\t\n",
      " Polaron Es: A= -6.399689 B= 7.124698 C= 2.820433 F= -3.545443\n",
      "\tμ(FHIP)= 0.061829 m^2/Vs \t= 618.29 cm^2/Vs\n",
      "\tμ(Kadanoff)= 0.015896 m^2/Vs \t= 158.96 cm^2/Vs\n",
      "\tμ(Hellwarth1999)= 0.011235 m^2/Vs \t= 112.35 cm^2/Vs\n",
      "\tμ(Hellwarth1999,b=0)= 0.011252 m^2/Vs \t= 112.52 cm^2/Vs\n",
      "\n",
      "T: 290.000000 β: 2.5e+20 βred: 0.37\t v= 19.24 w= 16.38\t M=0.379487 k=101.858886\t\n",
      " Polaron Es: A= -6.428601 B= 7.244256 C= 2.868046 F= -3.683701\n",
      "\tμ(FHIP)= 0.063694 m^2/Vs \t= 636.94 cm^2/Vs\n",
      "\tμ(Kadanoff)= 0.015811 m^2/Vs \t= 158.11 cm^2/Vs\n",
      "\tμ(Hellwarth1999)= 0.011064 m^2/Vs \t= 110.64 cm^2/Vs\n",
      "\tμ(Hellwarth1999,b=0)= 0.011081 m^2/Vs \t= 110.81 cm^2/Vs\n",
      "\n",
      "T: 300.000000 β: 2.4e+20 βred: 0.36\t v= 19.83 w= 16.93\t M=0.372649 k=106.750401\t\n",
      " Polaron Es: A= -6.449669 B= 7.361839 C= 2.912604 F= -3.824774\n",
      "\tμ(FHIP)= 0.065503 m^2/Vs \t= 655.03 cm^2/Vs\n",
      "\tμ(Kadanoff)= 0.015718 m^2/Vs \t= 157.18 cm^2/Vs\n",
      "\tμ(Hellwarth1999)= 0.010899 m^2/Vs \t= 108.99 cm^2/Vs\n",
      "\tμ(Hellwarth1999,b=0)= 0.010916 m^2/Vs \t= 109.16 cm^2/Vs\n",
      "\n"
     ]
    }
   ],
   "source": [
    "using Optim\n",
    "\n",
    "const hbar = const ħ = 1.05457162825e-34;          # kg m2 / s \n",
    "const eV = const q = const ElectronVolt = 1.602176487e-19;                         # kg m2 / s2 \n",
    "const me=MassElectron = 9.10938188e-31;                          # kg\n",
    "const Boltzmann = const kB =  1.3806504e-23;                  # kg m2 / K s2 \n",
    "\n",
    "# \"Band Mass\" in Deveresse, actually m_b\n",
    "mb=0.15*me #*1.4 # 0.15 is band reduced mass; 1.4 is polaron renormalised mass\n",
    "\n",
    "freq=2.25E12\n",
    "ω = (2*pi)*freq\n",
    "α=2.395939683378253\n",
    "@printf(\"α=%f\\n\",α)\n",
    "\n",
    "\n",
    "initial=[7.1,6.5]\n",
    "#initial=[9.0,9.0]\n",
    "# Main use of these bounds is stopping v or w going negative, at which you get a NaN error as you are evaluating log(-ve Real)\n",
    "lower=[0.1,0.1]\n",
    "upper=[100.0,100.0]\n",
    "\n",
    "\n",
    "# Empty arrays for storing data \n",
    "Ts=[]\n",
    "Kμs=[]\n",
    "Hμs=[]\n",
    "FHIPμs=[]\n",
    "ks=[]\n",
    "Ms=[]\n",
    "As=[]\n",
    "Bs=[]\n",
    "Cs=[]\n",
    "Fs=[]\n",
    "\n",
    "# I think this β term subsumes the energy of the phonon; i.e. kbT c.f. ħω\n",
    "for T in 10:10:300\n",
    "    β=1/(kB*T)\n",
    "    βred=ħ*ω*β\n",
    "    @printf(\"T: %f β: %.2g βred: %.2g\\t\",T,β,βred)\n",
    "    myf(x) = F(x[1],x[2],βred,α)\n",
    "    res=optimize(DifferentiableFunction(myf), initial, lower, upper, Fminbox(); optimizer = BFGS, optimizer_o=Optim.Options(autodiff=true))\n",
    "    minimum=Optim.minimizer(res)\n",
    "    #show(Optim.converged(res)) # All came out as 'true'\n",
    "    \n",
    "    v=minimum[1]\n",
    "    w=minimum[2]\n",
    "        \n",
    "    @printf(\" v= %.2f w= %.2f\\t\",v,w)\n",
    "        \n",
    "    # From 1962 Feynman, definition of v and w in terms of the coupled Mass and spring-constant\n",
    "    # See Page 1007, just after equation (18)\n",
    "    # Units of M appear to be 'electron masses'\n",
    "    # Unsure of units for k, spring coupling constant\n",
    "    k=(v^2-w^2)\n",
    "    M=(v^2-w^2)/w^2\n",
    "    @printf(\" M=%f k=%f\\t\",M,k)\n",
    "    \n",
    "    append!(ks,k)\n",
    "    append!(Ms,M)\n",
    "    \n",
    "    # F(v,w,β,α)=-(A(v,w,β)+B(v,w,β,α)+C(v,w,β)) #(62a) - Hellwarth 1999\n",
    "    @printf(\"\\n Polaron Es: A= %f B= %f C= %f F= %f\",A(v,w,βred),B(v,w,βred,α),C(v,w,βred),F(v,w,βred,α))\n",
    "    append!(As,A(v,w,βred))\n",
    "    append!(Bs,B(v,w,βred,α))\n",
    "    append!(Cs,C(v,w,βred))\n",
    "    append!(Fs,F(v,w,βred,α))\n",
    "    \n",
    "\n",
    "    \n",
    "    #[1.60] in Devereese, page 36; 6th Edition of Frohlich polaron notes\n",
    "    # I believe here β is in SI (expanded) units\n",
    "    μ=(w/v)^3 * (3*q)/(4*mb*ħ*ω^2*α*β) * exp(ħ*ω*β) * exp((v^2-w^2)/(w^2*v))\n",
    "    @printf(\"\\n\\tμ(FHIP)= %f m^2/Vs \\t= %.2f cm^2/Vs\",μ,μ*100^2)\n",
    "    append!(Ts,T)\n",
    "    append!(FHIPμs,μ*100^2)\n",
    "    \n",
    "    #[1.61] - Kadanoff's Boltzmann eqn derived mob\n",
    "    μ=(w/v)^3 * (q)/(2*mb*ω*α) * exp(ħ*ω*β) * exp((v^2-w^2)/(w^2*v))\n",
    "    @printf(\"\\n\\tμ(Kadanoff)= %f m^2/Vs \\t= %.2f cm^2/Vs\",μ,μ*100^2)    \n",
    "\n",
    "    append!(Kμs,μ*100^2)\n",
    "    \n",
    "    #Hellwarth1999 Eqn (2) and (1) - Unclear where from (just references FHIP), contains factors of βred\n",
    "    R=(v^2-w^2)/(w^2*v) # inline, page 300 just after Eqn (2)\n",
    "    #b=R*βred/sinh(b*βred*v/2) # this self-references b! what the hell?\n",
    "    # Oops - it's a typo from Feynman1962!\n",
    "    b=R*βred/sinh(βred*v/2) # Feynman1962 version; page 1010, Eqn (47b)\n",
    "    #b=0 # Hellwarth1999/Baggio1997 \"Setting b=0 makes less than 0.1% error\"\n",
    "    a=sqrt( (βred/2)^2 + R*βred*coth(βred*v/2))\n",
    "    k(u,a,b,v) = (u^2+a^2-b*cos(v*u))^(-3/2)*cos(u) # integrand in (2)\n",
    "    K=quadgk(u->k(u,a,b,v),0,Inf)[1] # numerical quadrature integration of (2)\n",
    "    \n",
    "    #Right-hand-side of Eqn 1 in Hellwarth 1999 // Eqn (4) in Baggio1997\n",
    "    RHS= α/(3*sqrt(π)) * βred^(5/2) / sinh(βred/2) * (v^3/w^3) * K\n",
    "    μ=RHS^-1 * (q)/(ω*mb)\n",
    "    @printf(\"\\n\\tμ(Hellwarth1999)= %f m^2/Vs \\t= %.2f cm^2/Vs\",μ,μ*100^2)    \n",
    "    append!(Hμs,μ*100^2)\n",
    "    \n",
    "    #Hellwarth1999 b=0\n",
    "    R=(v^2-w^2)/(w^2*v) # inline, page 300 just after Eqn (2)\n",
    "    b=0 # Hellwarth1999/Baggio1997 \"Setting b=0 makes less than 0.1% error\"\n",
    "    a=sqrt( (βred/2)^2 + R*βred*coth(βred*v/2))\n",
    "    k(u,a,b,v) = (u^2+a^2-b*cos(v*u))^(-3/2)*cos(u) # integrand in (2)\n",
    "    K=quadgk(u->k(u,a,b,v),0,Inf)[1] # numerical quadrature integration of (2)\n",
    "\n",
    "    #Right-hand-side of Eqn 1 in Hellwarth 1999 // Eqn (4) in Baggio1997\n",
    "    RHS= α/(3*sqrt(π)) * βred^(5/2) / sinh(βred/2) * (v^3/w^3) * K\n",
    "    μ=RHS^-1 * (q)/(ω*mb)\n",
    "    @printf(\"\\n\\tμ(Hellwarth1999,b=0)= %f m^2/Vs \\t= %.2f cm^2/Vs\",μ,μ*100^2)    \n",
    "    #append!(Hμs,μ*100^2)\n",
    "    \n",
    "    \n",
    "    @printf(\"\\n\\n\")\n",
    "    \n",
    "    # Recycle previous results as next guess\n",
    "    initial=[v,w] # Caution! Might cause weird sticking in local minima\n",
    "end"
   ]
  },
  {
   "cell_type": "code",
   "execution_count": 17,
   "metadata": {
    "collapsed": false
   },
   "outputs": [
    {
     "name": "stderr",
     "output_type": "stream",
     "text": [
      "WARNING: using Plots.w in module Main conflicts with an existing identifier.\n"
     ]
    }
   ],
   "source": [
    "using Plots\n",
    "default(size=(600,400))"
   ]
  },
  {
   "cell_type": "code",
   "execution_count": 18,
   "metadata": {
    "collapsed": false
   },
   "outputs": [
    {
     "data": {
      "text/html": [
       "<img src=\"data:image/png;base64,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\" />"
      ]
     },
     "execution_count": 18,
     "metadata": {},
     "output_type": "execute_result"
    }
   ],
   "source": [
    "plot(Ts,Ms,label=\"Mass\",marker=2,xlab=\"Temperature (K)\",ylab=\"Mass of Phonon cloud (electron masses)\",ylim=(0,1.2))\n",
    "#plot!([0],[0])\n",
    "#plot!(Ts,ks,label=\"Spring Consts\",marker=2)"
   ]
  },
  {
   "cell_type": "code",
   "execution_count": 19,
   "metadata": {
    "collapsed": false
   },
   "outputs": [
    {
     "data": {
      "text/html": [
       "<img src=\"data:image/png;base64,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\" />"
      ]
     },
     "execution_count": 19,
     "metadata": {},
     "output_type": "execute_result"
    }
   ],
   "source": [
    "plot(Ts,ks,label=\"Spring Consts\",marker=2, xlab=\"Temperature (K)\",ylab=\"Some internal spring const\",)\n",
    "plot!([0],[0])\n"
   ]
  },
  {
   "cell_type": "code",
   "execution_count": 20,
   "metadata": {
    "collapsed": false
   },
   "outputs": [
    {
     "data": {
      "text/html": [
       "<img src=\"data:image/png;base64,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\" />"
      ]
     },
     "execution_count": 20,
     "metadata": {},
     "output_type": "execute_result"
    }
   ],
   "source": [
    "plot(Ts,As,label=\"A\",marker=2, xlab=\"Temperature (K)\",ylab=\"Energy ?\")\n",
    "plot!(Ts,Bs,label=\"B\",marker=2)\n",
    "plot!(Ts,Cs,label=\"C\",marker=2)\n",
    "#plot!(Ts,Fs,label=\"F\",marker=2)\n",
    "\n",
    "\n",
    "plot!([0],[0])\n"
   ]
  },
  {
   "cell_type": "code",
   "execution_count": 21,
   "metadata": {
    "collapsed": false
   },
   "outputs": [
    {
     "data": {
      "text/html": [
       "<img src=\"data:image/png;base64,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\" />"
      ]
     },
     "execution_count": 21,
     "metadata": {},
     "output_type": "execute_result"
    }
   ],
   "source": [
    "using Plots\n",
    "\n",
    "default(size=(600,400))\n",
    "plot(Ts,Kμs,label=\"Kadanoff Polaron mobility\",marker=2,xlab=\"Temperature (K)\",ylab=\"Mobility (cm^2/Vs)\",ylims=(0,1000))\n",
    "plot!(Ts,FHIPμs,label=\"FHIP\",marker=2)\n",
    "plot!(Ts,Hμs,label=\"Hellwarth1999\",marker=2)\n",
    "#plot!([0],[0])\n"
   ]
  },
  {
   "cell_type": "code",
   "execution_count": 22,
   "metadata": {
    "collapsed": false
   },
   "outputs": [
    {
     "data": {
      "text/plain": [
       "1×2 Array{Int64,2}:\n",
       " 300  115"
      ]
     },
     "execution_count": 22,
     "metadata": {},
     "output_type": "execute_result"
    }
   ],
   "source": [
    "# Milot/Herz 2015 Time-Resolved-Microwave-Conductivity mobilities\n",
    "# Data from table in SI of: DOI: 10.1002/adfm.201502340\n",
    "# Absolute values possibly dodge due to unknown yield of charge carriers; but hopefully trend A.OK!\n",
    "Milot= [\n",
    "8 184\n",
    "40 321\n",
    "80 143\n",
    "120 62\n",
    "140 40\n",
    "160 52\n",
    "180 44\n",
    "205 41\n",
    "230 39\n",
    "265 26\n",
    "295 35\n",
    "310 24\n",
    "320 24\n",
    "330 19\n",
    "340 16\n",
    "355 15 \n",
    "]\n",
    "\n",
    "# IV estimated mobilities (?!) from large single crystals, assumed ambient T\n",
    "# Nature Communications 6, Article number: 7586 (2015)\n",
    "# doi:10.1038/ncomms8586\n",
    "Saidaminov = \n",
    "[ 300 67.2 ]\n",
    "\n",
    "\n",
    "#Semonin2016,\n",
    "#  doi = {10.1021/acs.jpclett.6b01308},\n",
    "Semonin = \n",
    "[ 300 115 ] # +- 15 cm^2/Vs, holes+electrons"
   ]
  },
  {
   "cell_type": "code",
   "execution_count": 23,
   "metadata": {
    "collapsed": false
   },
   "outputs": [
    {
     "data": {
      "text/html": [
       "<img src=\"data:image/png;base64,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\" />"
      ]
     },
     "execution_count": 23,
     "metadata": {},
     "output_type": "execute_result"
    }
   ],
   "source": [
    "#default(size=(1200,800))\n",
    "\n",
    "plot(Milot[:,1],Milot[:,2],label=\"Milot T-dep TRMC Polycrystal\",\n",
    "xlab=\"Temperature (K)\",ylab=\"Mobility (cm^2/Vs)\",marker=2, ylims=(0,400) )\n",
    "plot!(Saidaminov[:,1],Saidaminov[:,2],label=\"Saidaminov JV Single Crystal\", marker=6)\n",
    "plot!(Semonin[:,1],Semonin[:,2],label=\"Semonin Single Crystal TRMC\", marker=6)\n",
    "plot!(Ts,Kμs,label=\"Kadanoff Polaron mobility\",marker=2)\n",
    "plot!(Ts,Hμs,label=\"Hellwarth1999 Polaron mobility\",marker=2)\n",
    "#plot!([0],[0])"
   ]
  },
  {
   "cell_type": "code",
   "execution_count": 24,
   "metadata": {
    "collapsed": false
   },
   "outputs": [],
   "source": [
    "plot!(yscale=(:log))"
   ]
  },
  {
   "cell_type": "code",
   "execution_count": 25,
   "metadata": {
    "collapsed": true
   },
   "outputs": [],
   "source": [
    "default(size=(1200,800))"
   ]
  },
  {
   "cell_type": "code",
   "execution_count": 26,
   "metadata": {
    "collapsed": false
   },
   "outputs": [
    {
     "name": "stdout",
     "output_type": "stream",
     "text": [
      "Reduced mass: 0.6131766805472932\n",
      "Feynman Polaron Radius: 1.941915699860798 , electron-mass unit\n",
      "Assuming Bohr, that's 1.027622950052337e-10 m\n",
      "Feynman Polaron Radius: 1.8534241915856385e-15, SI\n"
     ]
    }
   ],
   "source": [
    "# OK, now Ref 9 in  Hellwarth 1999 -\n",
    "# Schultz Physical Review Volume 116, Number 3, Nov 1959\n",
    "# Slow Electrons in Polar Crystals: Self-Energy,  Mass,  and Mobility\n",
    "\n",
    "const MassElectron = 9.10938188e-31;                          # kg\n",
    "\n",
    "# 300 K fit from above\n",
    "v=19.83 \n",
    "w= 16.93\n",
    "\n",
    "# Guess at What Hellwarth 1999 used: \n",
    "#  \"Using these values we estimate a room-temperature polaron radius of approx 0.6 nm for BiSiO\"\n",
    "# So they're using an omega=500 cm^-1 = 62 meV, so βred=2.5\n",
    "# Not sure what alpha they are using; (43) gives it in terms of phonon energies + reduced masses\n",
    "# Best guess for now - alpha=3, βred=2.5, so from Table III\n",
    "v=4.10 \n",
    "w=2.55\n",
    "\n",
    "m=1.0 #MassElectron\n",
    "# Eqn (2.4), Shultz1959\n",
    "μ=m*(v^2-w^2)/v^2\n",
    "println(\"Reduced mass: $μ\")\n",
    "rf=(3/2*μ*v)^(1/2)\n",
    "println(\"Feynman Polaron Radius: $rf , electron-mass unit\")\n",
    "println(\"Assuming Bohr, that's \",rf*5.2918e-11,\" m\")\n",
    "rf=(3/2*μ*v*MassElectron)^(1/2)\n",
    "println(\"Feynman Polaron Radius: $rf, SI\")\n",
    "\n",
    "\n",
    "# Units?!? Bohr?\n"
   ]
  },
  {
   "cell_type": "code",
   "execution_count": 27,
   "metadata": {
    "collapsed": false
   },
   "outputs": [
    {
     "data": {
      "text/plain": [
       "15×2 Array{Float64,2}:\n",
       " 4.01647   0.0816893 \n",
       " 3.88761   0.00631165\n",
       " 3.53131   0.0535355 \n",
       " 2.75539   0.021303  \n",
       " 2.43807   0.231628  \n",
       " 2.24909   0.26222   \n",
       " 2.07963   0.233823  \n",
       " 2.03367   0.062324  \n",
       " 1.5673    0.0367466 \n",
       " 1.01884   0.0126329 \n",
       " 1.0023    0.00681736\n",
       " 0.997013  0.0103758 \n",
       " 0.920178  0.0109581 \n",
       " 0.800604  0.00168303\n",
       " 0.573869  0.00646428"
      ]
     },
     "execution_count": 27,
     "metadata": {},
     "output_type": "execute_result"
    }
   ],
   "source": [
    "# ((freq THz)) ((IR Activity / e^2 amu^-1))\n",
    "# These data from MAPbI3-Cubic_PeakTable.csv\n",
    "# https://github.com/WMD-group/Phonons/tree/master/2015_MAPbI3/SimulatedSpectra\n",
    "# Data published in Brivio2015 (PRB)\n",
    "# https://doi.org/10.1103/PhysRevB.92.144308\n",
    "MAPI= [\n",
    "96.20813558773261 0.4996300522819191\n",
    "93.13630357703363 1.7139631746083817\n",
    "92.87834578121567 0.60108592692181\n",
    "92.4847918585963 0.0058228799414729\n",
    "92.26701437594754 0.100590086574602\n",
    "89.43972834606603 0.006278895133832249\n",
    "46.89209141511332 0.2460894564364346\n",
    "46.420949316788 0.14174282581124137\n",
    "44.0380222871706 0.1987196948553428\n",
    "42.89702947649343 0.011159939465770681\n",
    "42.67180170168193 0.02557751102757614\n",
    "41.46971205834201 0.012555230726601503\n",
    "37.08982543385215 0.00107488277468418\n",
    "36.53555265689563 0.02126940080871224\n",
    "30.20608114002676 0.009019481779712388\n",
    "27.374810898415028 0.03994453721421388\n",
    "26.363055017011728 0.05011922682554448\n",
    "9.522966890022039 0.00075631870522737\n",
    "4.016471586720514 0.08168931020200264\n",
    "3.887605410774121 0.006311654262282101\n",
    "3.5313112232401513 0.05353548710183397\n",
    "2.755392921480459 0.021303020776321225\n",
    "2.4380741812443247 0.23162784335484837\n",
    "2.2490917637719408 0.2622203718355982\n",
    "2.079632190634424 0.23382298607799906\n",
    "2.0336707697261187 0.0623239656843172\n",
    "1.5673011873879714 0.0367465760261409\n",
    "1.0188379384951798 0.0126328938653956\n",
    "1.0022960504442775 0.006817361620021601\n",
    "0.9970130778462072 0.0103757951973341\n",
    "0.9201781906386209 0.01095811116040592\n",
    "0.800604081794174 0.0016830270365341532\n",
    "0.5738689505255512 0.00646428491253749\n",
    "#0.022939578929507105 8.355742795827834e-05   # Acoustic modes!\n",
    "#0.04882611767873102 8.309858592685e-06\n",
    "#0.07575149723846182 2.778248540373041e-05\n",
    "]\n",
    "\n",
    "# Change to SI, but not actually needed as units cancel everywhere\n",
    "\n",
    "#MAPI_SI = [ MAPI_orig[:,1].*10^12*2*π MAPI_orig[:,2].*1 ]\n",
    "\n",
    "# OK, black magic here - perhaps our units of oscillator strength are not what we need? maybe already effectively 'squared'?\n",
    "#MAPI = [ MAPI[:,1] MAPI[:,2].^0.5]\n",
    "\n",
    "MAPI_low=MAPI[19:33,:] # Just inorganic components, everything below 10THz; modes 3-18"
   ]
  },
  {
   "cell_type": "code",
   "execution_count": 28,
   "metadata": {
    "collapsed": false
   },
   "outputs": [
    {
     "data": {
      "text/plain": [
       "11×2 Array{Float64,2}:\n",
       " 106.23   8.86\n",
       " 160.51   9.5 \n",
       " 180.33  20.85\n",
       " 206.69  10.05\n",
       " 252.76  27.0 \n",
       " 369.64  61.78\n",
       " 501.71  52.87\n",
       " 553.6   86.18\n",
       " 585.36  75.41\n",
       " 607.29  98.15\n",
       " 834.53  89.36"
      ]
     },
     "execution_count": 28,
     "metadata": {},
     "output_type": "execute_result"
    }
   ],
   "source": [
    "# Hellwarth Table II - BiSiO frequencies\n",
    "HellwarthII = [\n",
    "    106.23 8.86\n",
    "    160.51 9.50\n",
    "    180.33 20.85\n",
    "    206.69 10.05\n",
    "    252.76 27.00\n",
    "    369.64 61.78\n",
    "    501.71 52.87\n",
    "    553.60 86.18\n",
    "    585.36 75.41\n",
    "    607.29 98.15\n",
    "    834.53 89.36\n",
    "]"
   ]
  },
  {
   "cell_type": "code",
   "execution_count": 29,
   "metadata": {
    "collapsed": false
   },
   "outputs": [
    {
     "name": "stdout",
     "output_type": "stream",
     "text": [
      "Hellwarth (58) summation: 0.15505835776181887\n",
      "Hellwarth (59) summation (total ir activity ^2): 38777.7725\n",
      "Hellwarth (59) W_e (total ir activity ): 196.92072643579192\n",
      "Hellwarth (61) Omega (freq): 500.08501275972833\n",
      " should agree with values given in Hellwarth(60) W_e=196.9 cm^-1 and Hellwarth(61) Ω_e=500 cm^-1\n",
      "\t MAPI: (all values)\n",
      "Hellwarth (58) summation: 0.038509373484332976\n",
      "Hellwarth (59) summation (total ir activity ^2): 3.8773458912320917\n",
      "Hellwarth (59) W_e (total ir activity ): 1.9690977353173944\n",
      "Hellwarth (61) Omega (freq): 10.034229876494392\n",
      "\t MAPI: (low-frequency, non molecular IR)\n",
      "Hellwarth (58) summation: 0.03803673767058733\n",
      "Hellwarth (59) summation (total ir activity ^2): 0.19283002835623678\n",
      "Hellwarth (59) W_e (total ir activity ): 0.4391241605243747\n",
      "Hellwarth (61) Omega (freq): 2.251571287857919\n"
     ]
    }
   ],
   "source": [
    "# Most simple scheme\n",
    "# Hellwarth (58), assuming further typo on LHS, actually should be W_e\n",
    "function HellwarthBscheme(LO)\n",
    "    H58 = sum( (LO[:,2].^2)./ LO[:,1].^2 )\n",
    "    println(\"Hellwarth (58) summation: \",H58)\n",
    "\n",
    "    H59 = sum( LO[:,2].^2 ) # sum of total ir activity squarred\n",
    "    println(\"Hellwarth (59) summation (total ir activity ^2): \", H59)\n",
    "    println(\"Hellwarth (59) W_e (total ir activity ): \", sqrt(H59))\n",
    "\n",
    "\n",
    "    omega = sqrt(H59 / H58)\n",
    "    println(\"Hellwarth (61) Omega (freq): \",omega)\n",
    "end\n",
    "\n",
    "HellwarthBscheme(HellwarthII)\n",
    "println(\" should agree with values given in Hellwarth(60) W_e=196.9 cm^-1 and Hellwarth(61) Ω_e=500 cm^-1\")\n",
    "println(\"\\t MAPI: (all values)\")\n",
    "HellwarthBscheme(MAPI)\n",
    "println(\"\\t MAPI: (low-frequency, non molecular IR)\")\n",
    "HellwarthBscheme(MAPI_low)"
   ]
  },
  {
   "cell_type": "code",
   "execution_count": 30,
   "metadata": {
    "collapsed": false
   },
   "outputs": [
    {
     "name": "stdout",
     "output_type": "stream",
     "text": [
      "Hellwarth (58) summation: 0.03803674397820172\n",
      "Hellwarth (59) summation (total ir activity ^2): 0.19283060037422062\n",
      "Hellwarth (61) Omega (Thz): 2.2515744407380125\n"
     ]
    }
   ],
   "source": [
    "# Check this though, take the low-freq components and:\n",
    "MAPI_low=[\n",
    "9.522966890022039 0.00075631870522737\n",
    "4.016471586720514 0.08168931020200264\n",
    "3.887605410774121 0.006311654262282101\n",
    "3.5313112232401513 0.05353548710183397\n",
    "2.755392921480459 0.021303020776321225\n",
    "2.4380741812443247 0.23162784335484837\n",
    "2.2490917637719408 0.2622203718355982\n",
    "2.079632190634424 0.23382298607799906\n",
    "2.0336707697261187 0.0623239656843172\n",
    "1.5673011873879714 0.0367465760261409\n",
    "1.0188379384951798 0.0126328938653956\n",
    "1.0022960504442775 0.006817361620021601\n",
    "0.9970130778462072 0.0103757951973341\n",
    "0.9201781906386209 0.01095811116040592\n",
    "0.800604081794174 0.0016830270365341532\n",
    "0.5738689505255512 0.00646428491253749\n",
    "#0.022939578929507105 8.355742795827834e-05\n",
    "#0.04882611767873102 8.309858592685e-06\n",
    "#0.07575149723846182 2.778248540373041e-05\n",
    "]\n",
    "H58 = sum( (MAPI_low[:,2].^2)./ MAPI_low[:,1].^2 )\n",
    "println(\"Hellwarth (58) summation: \",H58)\n",
    "\n",
    "H59 = sum( MAPI_low[:,2].^2 ) # sum of total ir activity squarred\n",
    "println(\"Hellwarth (59) summation (total ir activity ^2): \", H59)\n",
    "\n",
    "omega = sqrt(H59 / H58)\n",
    "println(\"Hellwarth (61) Omega (Thz): \",omega)\n",
    "\n",
    "# That feels like it should be the right answer... for whatever reason the Hellwarth \n",
    "# prescription isn't cancelling out the high-frequency components as you would expect \n",
    "# it to from an integration across the Lorentz oscillators"
   ]
  },
  {
   "cell_type": "code",
   "execution_count": null,
   "metadata": {
    "collapsed": false
   },
   "outputs": [],
   "source": []
  },
  {
   "cell_type": "code",
   "execution_count": 31,
   "metadata": {
    "collapsed": false
   },
   "outputs": [
    {
     "name": "stdout",
     "output_type": "stream",
     "text": [
      "Hellwarth (50) summation: 71.54392838926714\n",
      "Hellwarth (51) summation (total ir activity ^2): 38777.7725\n",
      "Hellwarth (51) W_e (total ir activity ): 196.92072643579192\n",
      "omegacoth: 542.0134646368867\n",
      "freq: 0.25 pseudo-omega: 26656.90416473002\n",
      "freq: 0.5 pseudo-omega: 13333.9624483481\n",
      "freq: 0.75 pseudo-omega: 8895.429577943587\n",
      "freq: 1.0 pseudo-omega: 6677.997401735134\n",
      "freq: 1.25 pseudo-omega: 5349.003805836801\n",
      "freq: 1.5 pseudo-omega: 4464.227684345397\n",
      "freq: 1.75 pseudo-omega: 3833.2882211840815\n",
      "freq: 2.0 pseudo-omega: 3360.9947109117875\n",
      "freq: 2.25 pseudo-omega: 2994.4631659655356\n",
      "freq: 2.5 pseudo-omega: 2701.962959828391\n",
      "freq: 2.75 pseudo-omega: 2463.3016650751006\n",
      "freq: 3.0 pseudo-omega: 2265.0174726122787\n",
      "freq: 3.25 pseudo-omega: 2097.790494542239\n",
      "freq: 3.5 pseudo-omega: 1954.9635088340199\n",
      "freq: 3.75 pseudo-omega: 1831.6544062868716\n",
      "freq: 4.0 pseudo-omega: 1724.2014700285679\n",
      "freq: 4.25 pseudo-omega: 1629.8044388530136\n",
      "freq: 4.5 pseudo-omega: 1546.2852162327458\n",
      "freq: 4.75 pseudo-omega: 1471.9241450161726\n",
      "freq: 5.0 pseudo-omega: 1405.3453998152925\n",
      "freq: 5.25 pseudo-omega: 1345.4351245158227\n",
      "freq: 5.5 pseudo-omega: 1291.281896002675\n",
      "freq: 5.75 pseudo-omega: 1242.1327191612293\n",
      "freq: 6.0 pseudo-omega: 1197.3600231946377\n",
      "freq: 6.25 pseudo-omega: 1156.4365788844073\n",
      "freq: 6.5 pseudo-omega: 1118.9162042284506\n",
      "freq: 6.75 pseudo-omega: 1084.4187577620928\n",
      "freq: 7.0 pseudo-omega: 1052.6183476373349\n",
      "freq: 7.25 pseudo-omega: 1023.2339802390275\n",
      "freq: 7.5 pseudo-omega: 996.022079108938\n",
      "freq: 7.75 pseudo-omega: 970.7704518465106\n",
      "freq: 8.0 pseudo-omega: 947.2933882379277\n",
      "freq: 8.25 pseudo-omega: 925.4276496525757\n",
      "freq: 8.5 pseudo-omega: 905.029166207444\n",
      "freq: 8.75 pseudo-omega: 885.9703001427465\n",
      "freq: 9.0 pseudo-omega: 868.1375653091416\n",
      "freq: 9.25 pseudo-omega: 851.4297164723017\n",
      "freq: 9.5 pseudo-omega: 835.7561403078416\n",
      "freq: 9.75 pseudo-omega: 821.0354939344379\n",
      "freq: 10.0 pseudo-omega: 807.1945476634695\n",
      "freq: 10.25 pseudo-omega: 794.1671970965822\n",
      "freq: 10.5 pseudo-omega: 781.8936163442808\n",
      "freq: 10.75 pseudo-omega: 770.3195293902489\n",
      "freq: 11.0 pseudo-omega: 759.3955808034817\n",
      "freq: 11.25 pseudo-omega: 749.0767903422612\n",
      "freq: 11.5 pseudo-omega: 739.3220786820568\n",
      "freq: 11.75 pseudo-omega: 730.0938536727866\n",
      "freq: 12.0 pseudo-omega: 721.3576482967053\n",
      "freq: 12.25 pseudo-omega: 713.0818029396905\n",
      "freq: 12.5 pseudo-omega: 705.2371857707358\n",
      "freq: 12.75 pseudo-omega: 697.7969459978927\n",
      "freq: 13.0 pseudo-omega: 690.7362955738762\n",
      "freq: 13.25 pseudo-omega: 684.032315592804\n",
      "freq: 13.5 pseudo-omega: 677.6637841764465\n",
      "freq: 13.75 pseudo-omega: 671.61102311412\n",
      "freq: 14.0 pseudo-omega: 665.8557609112662\n",
      "freq: 14.25 pseudo-omega: 660.3810102309493\n",
      "freq: 14.5 pseudo-omega: 655.1709579906036\n",
      "freq: 14.75 pseudo-omega: 650.210866612049\n",
      "freq: 15.0 pseudo-omega: 645.4869851231164\n",
      "freq: 15.25 pseudo-omega: 640.986468979998\n",
      "freq: 15.5 pseudo-omega: 636.697307625414\n",
      "freq: 15.75 pseudo-omega: 632.6082589228158\n",
      "freq: 16.0 pseudo-omega: 628.7087897143648\n",
      "freq: 16.25 pseudo-omega: 624.9890218430739\n",
      "freq: 16.5 pseudo-omega: 621.4396830594907\n",
      "freq: 16.75 pseudo-omega: 618.0520623025624\n",
      "freq: 17.0 pseudo-omega: 614.817968904409\n",
      "freq: 17.25 pseudo-omega: 611.7296953209749\n",
      "freq: 17.5 pseudo-omega: 608.7799830360609\n",
      "freq: 17.75 pseudo-omega: 605.9619913259941\n",
      "freq: 18.0 pseudo-omega: 603.2692686069717\n",
      "freq: 18.25 pseudo-omega: 600.6957261176154\n",
      "freq: 18.5 pseudo-omega: 598.2356137160535\n",
      "freq: 18.75 pseudo-omega: 595.8834975944097\n",
      "freq: 19.0 pseudo-omega: 593.634239734363\n",
      "freq: 19.25 pseudo-omega: 591.4829789457795\n",
      "freq: 19.5 pseudo-omega: 589.4251133466443\n",
      "freq: 19.75 pseudo-omega: 587.4562841569013\n",
      "freq: 20.0 pseudo-omega: 585.5723606915645\n",
      "Hellwarth (50) summation: 2511.0114544292537\n",
      "Hellwarth (51) summation (total ir activity ^2): 38777.7725\n",
      "Hellwarth (51) W_e (total ir activity ): 196.92072643579192\n",
      "omegacoth: 15.44308865321926\n",
      "freq: 0.25 pseudo-omega: 759.5105308169489\n",
      "freq: 0.5 pseudo-omega: 379.9122671730811\n",
      "freq: 0.75 pseudo-omega: 253.44925272784945\n",
      "freq: 1.0 pseudo-omega: 190.27000735129914\n",
      "freq: 1.25 pseudo-omega: 152.40422124067513\n",
      "freq: 1.5 pseudo-omega: 127.19511302858118\n",
      "freq: 1.75 pseudo-omega: 109.21833809561457\n",
      "freq: 2.0 pseudo-omega: 95.76171565845532\n",
      "freq: 2.25 pseudo-omega: 85.31847114127626\n",
      "freq: 2.5 pseudo-omega: 76.98453313202958\n",
      "freq: 2.75 pseudo-omega: 70.18457746038163\n",
      "freq: 3.0 pseudo-omega: 64.53504924287365\n",
      "freq: 3.25 pseudo-omega: 59.770405528209324\n",
      "freq: 3.5 pseudo-omega: 55.700968242473685\n",
      "freq: 3.75 pseudo-omega: 52.18763596084807\n",
      "freq: 4.0 pseudo-omega: 49.12607876909566\n",
      "freq: 4.25 pseudo-omega: 46.436511413012724\n",
      "freq: 4.5 pseudo-omega: 44.05687540150362\n",
      "freq: 4.75 pseudo-omega: 41.93817413286407\n",
      "freq: 5.0 pseudo-omega: 40.04120748601867\n",
      "freq: 5.25 pseudo-omega: 38.3342393882643\n",
      "freq: 5.5 pseudo-omega: 36.791301503230684\n",
      "freq: 5.75 pseudo-omega: 35.3909394371265\n",
      "freq: 6.0 pseudo-omega: 34.11527239531433\n",
      "freq: 6.25 pseudo-omega: 32.94927852300092\n",
      "freq: 6.5 pseudo-omega: 31.8802451688164\n",
      "freq: 6.75 pseudo-omega: 30.897341313380718\n",
      "freq: 7.0 pseudo-omega: 29.991281621497656\n",
      "freq: 7.25 pseudo-omega: 29.1540600018192\n",
      "freq: 7.5 pseudo-omega: 28.378736455463873\n",
      "freq: 7.75 pseudo-omega: 27.659265180496625\n",
      "freq: 8.0 pseudo-omega: 26.9903549074511\n",
      "freq: 8.25 pseudo-omega: 26.36735462891018\n",
      "freq: 8.5 pseudo-omega: 25.78615949486414\n",
      "freq: 8.75 pseudo-omega: 25.243132840601714\n",
      "freq: 9.0 pseudo-omega: 24.735041210167388\n",
      "freq: 9.25 pseudo-omega: 24.258999916682622\n",
      "freq: 9.5 pseudo-omega: 23.812427198451537\n",
      "freq: 9.75 pseudo-omega: 23.393005427943564\n",
      "freq: 10.0 pseudo-omega: 22.99864813932859\n",
      "freq: 10.25 pseudo-omega: 22.627471881086027\n",
      "freq: 10.5 pseudo-omega: 22.27777208944484\n",
      "freq: 10.75 pseudo-omega: 21.948002328040623\n",
      "freq: 11.0 pseudo-omega: 21.63675635819802\n",
      "freq: 11.25 pseudo-omega: 21.342752599465978\n",
      "freq: 11.5 pseudo-omega: 21.064820616621144\n",
      "freq: 11.75 pseudo-omega: 20.80188933127847\n",
      "freq: 12.0 pseudo-omega: 20.55297670655993\n",
      "freq: 12.25 pseudo-omega: 20.317180694344014\n",
      "freq: 12.5 pseudo-omega: 20.093671268297015\n",
      "freq: 12.75 pseudo-omega: 19.881683393622726\n",
      "freq: 13.0 pseudo-omega: 19.680510807401966\n",
      "freq: 13.25 pseudo-omega: 19.48950050243387\n",
      "freq: 13.5 pseudo-omega: 19.308047823357885\n",
      "freq: 13.75 pseudo-omega: 19.135592097105988\n",
      "freq: 14.0 pseudo-omega: 18.97161273087246\n",
      "freq: 14.25 pseudo-omega: 18.81562572016776\n",
      "freq: 14.5 pseudo-omega: 18.66718051744671\n",
      "freq: 14.75 pseudo-omega: 18.52585721851648\n",
      "freq: 15.0 pseudo-omega: 18.39126402963738\n",
      "freq: 15.25 pseudo-omega: 18.26303498309518\n",
      "freq: 15.5 pseudo-omega: 18.14082787318293\n",
      "freq: 15.75 pseudo-omega: 18.024322388095282\n",
      "freq: 16.0 pseudo-omega: 17.91321841630198\n",
      "freq: 16.25 pseudo-omega: 17.807234508606577\n",
      "freq: 16.5 pseudo-omega: 17.70610647937596\n",
      "freq: 16.75 pseudo-omega: 17.609586132399382\n",
      "freq: 17.0 pseudo-omega: 17.51744009854775\n",
      "freq: 17.25 pseudo-omega: 17.429448773892517\n",
      "freq: 17.5 pseudo-omega: 17.345405348240845\n",
      "freq: 17.75 pseudo-omega: 17.265114915176135\n",
      "freq: 18.0 pseudo-omega: 17.188393655684436\n",
      "freq: 18.25 pseudo-omega: 17.115068088315773\n",
      "freq: 18.5 pseudo-omega: 17.04497437959277\n",
      "freq: 18.75 pseudo-omega: 16.97795770905019\n",
      "freq: 19.0 pseudo-omega: 16.913871683881197\n",
      "freq: 19.25 pseudo-omega: 16.852577798688614\n",
      "freq: 19.5 pseudo-omega: 16.7939449363018\n",
      "freq: 19.75 pseudo-omega: 16.737848906029534\n",
      "freq: 20.0 pseudo-omega: 16.684172016082588\n",
      " should agree with values given in Hellwarth\n",
      " TableII: H50sum= 91.34 cm^-1, \n",
      " W_e=196.9 cm^-1 and Hellwarth(53) Ω_e=504 cm^-1\n",
      "\t MAPI: (all values)\n",
      "Hellwarth (50) summation: 0.28510941719956473\n",
      "Hellwarth (51) summation (total ir activity ^2): 3.8773458912320917\n",
      "Hellwarth (51) W_e (total ir activity ): 1.9690977353173944\n",
      "omegacoth: 13.59950130485557\n",
      "freq: 0.25 pseudo-omega: 668.8405853801448\n",
      "freq: 0.5 pseudo-omega: 334.5585516711985\n",
      "freq: 0.75 pseudo-omega: 223.19262166953519\n",
      "freq: 1.0 pseudo-omega: 167.5556795246051\n",
      "freq: 1.25 pseudo-omega: 134.2102899341966\n",
      "freq: 1.5 pseudo-omega: 112.01063106264368\n",
      "freq: 1.75 pseudo-omega: 96.17991353924133\n",
      "freq: 2.0 pseudo-omega: 84.32973521659424\n",
      "freq: 2.25 pseudo-omega: 75.13319943107336\n",
      "freq: 2.5 pseudo-omega: 67.79416231379894\n",
      "freq: 2.75 pseudo-omega: 61.80598157443247\n",
      "freq: 3.0 pseudo-omega: 56.83089089852666\n",
      "freq: 3.25 pseudo-omega: 52.635047704863325\n",
      "freq: 3.5 pseudo-omega: 49.05141758266927\n",
      "freq: 3.75 pseudo-omega: 45.957504957982074\n",
      "freq: 4.0 pseudo-omega: 43.26143476379541\n",
      "freq: 4.25 pseudo-omega: 40.89294646525014\n",
      "freq: 4.5 pseudo-omega: 38.797390079458545\n",
      "freq: 4.75 pseudo-omega: 36.93161819182153\n",
      "freq: 5.0 pseudo-omega: 35.26111036995108\n",
      "freq: 5.25 pseudo-omega: 33.75791917588135\n",
      "freq: 5.5 pseudo-omega: 32.39917635881854\n",
      "freq: 5.75 pseudo-omega: 31.16598873858921\n",
      "freq: 6.0 pseudo-omega: 30.042610119891105\n",
      "freq: 6.25 pseudo-omega: 29.01581194861503\n",
      "freq: 6.5 pseudo-omega: 28.074399202652724\n",
      "freq: 6.75 pseudo-omega: 27.2088338637036\n",
      "freq: 7.0 pseudo-omega: 26.41093907473131\n",
      "freq: 7.25 pseudo-omega: 25.67366450712744\n",
      "freq: 7.5 pseudo-omega: 24.990898655223422\n",
      "freq: 7.75 pseudo-omega: 24.35731746156217\n",
      "freq: 8.0 pseudo-omega: 23.768261325488147\n",
      "freq: 8.25 pseudo-omega: 23.219634474267135\n",
      "freq: 8.5 pseudo-omega: 22.707822092604275\n",
      "freq: 8.75 pseudo-omega: 22.22962165880221\n",
      "freq: 9.0 pseudo-omega: 21.782185725081955\n",
      "freq: 9.25 pseudo-omega: 21.36297397688276\n",
      "freq: 9.5 pseudo-omega: 20.969712861786427\n",
      "freq: 9.75 pseudo-omega: 20.60036142935008\n",
      "freq: 10.0 pseudo-omega: 20.25308229487586\n",
      "freq: 10.25 pseudo-omega: 19.926216852239886\n",
      "freq: 10.5 pseudo-omega: 19.618264027547614\n",
      "freq: 10.75 pseudo-omega: 19.327861997149135\n",
      "freq: 11.0 pseudo-omega: 19.05377239836132\n",
      "freq: 11.25 pseudo-omega: 18.794866645095745\n",
      "freq: 11.5 pseudo-omega: 18.550114028036106\n",
      "freq: 11.75 pseudo-omega: 18.31857133354023\n",
      "freq: 12.0 pseudo-omega: 18.099373759747298\n",
      "freq: 12.25 pseudo-omega: 17.891726944539666\n",
      "freq: 12.5 pseudo-omega: 17.69489994966646\n",
      "freq: 12.75 pseudo-omega: 17.50821906976064\n",
      "freq: 13.0 pseudo-omega: 17.33106235517815\n",
      "freq: 13.25 pseudo-omega: 17.16285475435518\n",
      "freq: 13.5 pseudo-omega: 17.003063795352364\n",
      "freq: 13.75 pseudo-omega: 16.85119573794122\n",
      "freq: 14.0 pseudo-omega: 16.70679213739611\n",
      "freq: 14.25 pseudo-omega: 16.569426769414694\n",
      "freq: 14.5 pseudo-omega: 16.438702872567564\n",
      "freq: 14.75 pseudo-omega: 16.314250670591278\n",
      "freq: 15.0 pseudo-omega: 16.195725141865235\n",
      "freq: 15.25 pseudo-omega: 16.082804007697717\n",
      "freq: 15.5 pseudo-omega: 15.975185914709055\n",
      "freq: 15.75 pseudo-omega: 15.872588789739368\n",
      "freq: 16.0 pseudo-omega: 15.774748348406236\n",
      "freq: 16.25 pseudo-omega: 15.681416740762005\n",
      "freq: 16.5 pseudo-omega: 15.592361319507752\n",
      "freq: 16.75 pseudo-omega: 15.507363517958549\n",
      "freq: 17.0 pseudo-omega: 15.426217826462349\n",
      "freq: 17.25 pseudo-omega: 15.348730857285668\n",
      "freq: 17.5 pseudo-omega: 15.274720489121641\n",
      "freq: 17.75 pseudo-omega: 15.204015083373465\n",
      "freq: 18.0 pseudo-omega: 15.136452765239001\n",
      "freq: 18.25 pseudo-omega: 15.071880763387446\n",
      "freq: 18.5 pseudo-omega: 15.010154802690979\n",
      "freq: 18.75 pseudo-omega: 14.95113854506554\n",
      "freq: 19.0 pseudo-omega: 14.894703073996284\n",
      "freq: 19.25 pseudo-omega: 14.840726418783438\n",
      "freq: 19.5 pseudo-omega: 14.78909311495139\n",
      "freq: 19.75 pseudo-omega: 14.739693797624682\n",
      "freq: 20.0 pseudo-omega: 14.692424824994527\n",
      "\t MAPI: (low-frequency, non molecular IR)\n",
      "Hellwarth (50) summation: 0.24416080135213955\n",
      "Hellwarth (51) summation (total ir activity ^2): 0.19283060037422062\n",
      "Hellwarth (51) W_e (total ir activity ): 0.439124811840803\n",
      "omegacoth: 0.7897688707865591\n",
      "freq: 0.25 pseudo-omega: 38.841826770758054\n",
      "freq: 0.5 pseudo-omega: 19.428942550342672\n",
      "freq: 0.75 pseudo-omega: 12.961547694466178\n",
      "freq: 1.0 pseudo-omega: 9.730522968866124\n",
      "freq: 1.25 pseudo-omega: 7.7940438221379935\n",
      "freq: 1.5 pseudo-omega: 6.504834819115706\n",
      "freq: 1.75 pseudo-omega: 5.58549170336965\n",
      "freq: 2.0 pseudo-omega: 4.897311913339052\n",
      "freq: 2.25 pseudo-omega: 4.363238088155052\n",
      "freq: 2.5 pseudo-omega: 3.9370354703648682\n",
      "freq: 2.75 pseudo-omega: 3.5892816347954173\n",
      "freq: 3.0 pseudo-omega: 3.30036135330186\n",
      "freq: 3.25 pseudo-omega: 3.0566945991486163\n",
      "freq: 3.5 pseudo-omega: 2.848581121199878\n",
      "freq: 3.75 pseudo-omega: 2.6689071886683173\n",
      "freq: 4.0 pseudo-omega: 2.5123373067959673\n",
      "freq: 4.25 pseudo-omega: 2.374791209547136\n",
      "freq: 4.5 pseudo-omega: 2.2530951882463195\n",
      "freq: 4.75 pseudo-omega: 2.1447435271219306\n",
      "freq: 5.0 pseudo-omega: 2.0477315083321175\n",
      "freq: 5.25 pseudo-omega: 1.960436129971965\n",
      "freq: 5.5 pseudo-omega: 1.8815293556523875\n",
      "freq: 5.75 pseudo-omega: 1.8099139947311196\n",
      "freq: 6.0 pseudo-omega: 1.7446756125826361\n",
      "freq: 6.25 pseudo-omega: 1.685045982489886\n",
      "freq: 6.5 pseudo-omega: 1.63037497179207\n",
      "freq: 6.75 pseudo-omega: 1.5801086756235652\n",
      "freq: 7.0 pseudo-omega: 1.5337722363404471\n",
      "freq: 7.25 pseudo-omega: 1.490956217600976\n",
      "freq: 7.5 pseudo-omega: 1.4513057036753416\n",
      "freq: 7.75 pseudo-omega: 1.414511508605057\n",
      "freq: 8.0 pseudo-omega: 1.3803030336773054\n",
      "freq: 8.25 pseudo-omega: 1.3484424235667494\n",
      "freq: 8.5 pseudo-omega: 1.3187197537673696\n",
      "freq: 8.75 pseudo-omega: 1.2909490430517745\n",
      "freq: 9.0 pseudo-omega: 1.264964930531604\n",
      "freq: 9.25 pseudo-omega: 1.2406198915795117\n",
      "freq: 9.5 pseudo-omega: 1.2177818933447528\n",
      "freq: 9.75 pseudo-omega: 1.196332410957152\n",
      "freq: 10.0 pseudo-omega: 1.17616474129536\n",
      "freq: 10.25 pseudo-omega: 1.1571825635122972\n",
      "freq: 10.5 pseudo-omega: 1.1392987051883225\n",
      "freq: 10.75 pseudo-omega: 1.1224340806347703\n",
      "freq: 11.0 pseudo-omega: 1.1065167739573774\n",
      "freq: 11.25 pseudo-omega: 1.0914812443586785\n",
      "freq: 11.5 pseudo-omega: 1.0772676350752095\n",
      "freq: 11.75 pseudo-omega: 1.0638211705121599\n",
      "freq: 12.0 pseudo-omega: 1.0510916287111098\n",
      "freq: 12.25 pseudo-omega: 1.0390328783869045\n",
      "freq: 12.5 pseudo-omega: 1.0276024714920704\n",
      "freq: 12.75 pseudo-omega: 1.016761283685572\n",
      "freq: 13.0 pseudo-omega: 1.0064731962556224\n",
      "freq: 13.25 pseudo-omega: 0.99670481402\n",
      "freq: 13.5 pseudo-omega: 0.9874252145387677\n",
      "freq: 13.75 pseudo-omega: 0.978605724652964\n",
      "freq: 14.0 pseudo-omega: 0.9702197209324227\n",
      "freq: 14.25 pseudo-omega: 0.9622424510955405\n",
      "freq: 14.5 pseudo-omega: 0.9546508738690349\n",
      "freq: 14.75 pseudo-omega: 0.9474235150991498\n",
      "freq: 15.0 pseudo-omega: 0.9405403382176618\n",
      "freq: 15.25 pseudo-omega: 0.933982627414871\n",
      "freq: 15.5 pseudo-omega: 0.927732882084466\n",
      "freq: 15.75 pseudo-omega: 0.9217747212874722\n",
      "freq: 16.0 pseudo-omega: 0.9160927971391699\n",
      "freq: 16.25 pseudo-omega: 0.9106727161578504\n",
      "freq: 16.5 pseudo-omega: 0.9055009677308489\n",
      "freq: 16.75 pseudo-omega: 0.9005648589542067\n",
      "freq: 17.0 pseudo-omega: 0.8958524551898667\n",
      "freq: 17.25 pseudo-omega: 0.8913525257604331\n",
      "freq: 17.5 pseudo-omega: 0.8870544942678715\n",
      "freq: 17.75 pseudo-omega: 0.8829483930804475\n",
      "freq: 18.0 pseudo-omega: 0.8790248215828862\n",
      "freq: 18.25 pseudo-omega: 0.8752749078291722\n",
      "freq: 18.5 pseudo-omega: 0.8716902732764288\n",
      "freq: 18.75 pseudo-omega: 0.8682630003126584\n",
      "freq: 19.0 pseudo-omega: 0.8649856023213982\n",
      "freq: 19.25 pseudo-omega: 0.8618509960530738\n",
      "freq: 19.5 pseudo-omega: 0.858852476096474\n",
      "freq: 19.75 pseudo-omega: 0.8559836912647234\n",
      "freq: 20.0 pseudo-omega: 0.8532386227287155\n"
     ]
    }
   ],
   "source": [
    "# More complex scheme, involving thermodynamic Beta\n",
    "# Hellwarth(50), RHS\n",
    "const hbar = const ħ = 1.05457162825e-34;          # kg m2 / s \n",
    "const eV = const q = const ElectronVolt = 1.602176487e-19;                         # kg m2 / s2 \n",
    "const me=MassElectron = 9.10938188e-31;                          # kg\n",
    "const Boltzmann = const kB =  1.3806504e-23;                  # kg m2 / K s2 \n",
    "\n",
    "function HellwarthAscheme(LO,T=295)\n",
    "    \n",
    "    β=LO[:,1].*2*pi*1E12*ħ/(kB*T) #assuming units of THz\n",
    "    H50 = sum( ((LO[:,2].^2).*coth(β))./LO[:,1] )\n",
    "    println(\"Hellwarth (50) summation: \",H50)\n",
    "\n",
    "    H51= sum( LO[:,2].^2 ) # sum of total ir activity squarred\n",
    "    println(\"Hellwarth (51) summation (total ir activity ^2): \", H51)\n",
    "    println(\"Hellwarth (51) W_e (total ir activity ): \", sqrt(H51))\n",
    "\n",
    "    # OK; so this is deriving Omega / coth(Beta/2)\n",
    "    omegacoth=H51/H50\n",
    "    println(\"omegacoth: \",omegacoth)\n",
    "\n",
    "    # NOT FINISHED - need to somehow decouple Omega from both sides of the eqn. \n",
    "    for freq in 0.25:0.25:20\n",
    "        pseudo_omega=omegacoth*coth(freq * 2*pi*1E12*ħ/(2*kB*T))\n",
    "        println(\"freq: $freq pseudo-omega: $pseudo_omega\")\n",
    "    end\n",
    "end\n",
    "\n",
    "HellwarthAscheme(HellwarthII)\n",
    "HellwarthAscheme( [HellwarthII[:,1].*0.02998 HellwarthII[:,2]] ) # convert data to Thz\n",
    "println(\" should agree with values given in Hellwarth\\n TableII: H50sum= 91.34 cm^-1, \\n W_e=196.9 cm^-1 and Hellwarth(53) Ω_e=504 cm^-1\")\n",
    "\n",
    "println(\"\\t MAPI: (all values)\")\n",
    "HellwarthAscheme(MAPI)\n",
    "println(\"\\t MAPI: (low-frequency, non molecular IR)\")\n",
    "HellwarthAscheme(MAPI_low)"
   ]
  },
  {
   "cell_type": "code",
   "execution_count": 32,
   "metadata": {
    "collapsed": false
   },
   "outputs": [
    {
     "data": {
      "text/plain": [
       "0.18072844628861226"
      ]
     },
     "execution_count": 32,
     "metadata": {},
     "output_type": "execute_result"
    }
   ],
   "source": [
    "# Comparison via Hellwarth (37)\n",
    "# MAPI  4.5, 24.1, 2.25THz - 75 cm^-1 ; α=\n",
    "ε_Inf=4.5\n",
    "ε_S=24.1\n",
    "\n",
    "(1/ε_Inf - 1/ε_S) #/(4*pi)\n",
    "\n",
    "# By Hellwarth (37) this should be equivalent to the summation Hellwarth(58) above"
   ]
  },
  {
   "cell_type": "code",
   "execution_count": 33,
   "metadata": {
    "collapsed": false
   },
   "outputs": [
    {
     "data": {
      "text/plain": [
       "2.393940840504799"
      ]
     },
     "execution_count": 33,
     "metadata": {},
     "output_type": "execute_result"
    }
   ],
   "source": [
    "# Hellwarth 44 defin. for alpha\n",
    "Ry=13.605693*q\n",
    "effectivemass=0.12\n",
    "α=(1/ε_Inf - 1/ε_S) * sqrt(effectivemass * Ry / (ħ*2.25E12*2*pi))"
   ]
  },
  {
   "cell_type": "code",
   "execution_count": 34,
   "metadata": {
    "collapsed": false
   },
   "outputs": [
    {
     "name": "stdout",
     "output_type": "stream",
     "text": [
      "volume: 2.48858189e-28\n",
      " MAPI: 3.1776873962678347\n",
      " MAPI_low: 3.1677081975618884\n",
      " MAPI_SI: 2.0923201242420605e13\n",
      " MAPI_SI: fudged epislon0 14.742359525955068\n",
      " MAPI_SI_low: fudged epislon0 14.695576457826046\n",
      "\n",
      "From ε_S-ε_Inf, expect this to be: 19.6\n"
     ]
    }
   ],
   "source": [
    "# Integrate through Lorentz oscillators to get dielectric fn\n",
    "# Should give 'extra' contribution from these modes, extrapolated to zero omega\n",
    "function integrate_dielectric(LO,V0)\n",
    "    summate=sum( (LO[:,2])./(LO[:,1].^2) )\n",
    "    summate*4*π/V0\n",
    "end\n",
    "\n",
    "Å=1E-10 # angstrom in metres\n",
    "r=6.29Å # Sensible cubic cell size\n",
    "V0=(r)^3\n",
    "println(\"volume: $V0\")\n",
    "const amu=1.66054e-27\n",
    "const ε0=8.854187817E-12\n",
    "\n",
    "MAPI_SI = [ MAPI[:,1].*10^12*2*π MAPI[:,2]./(q^2/amu) ]\n",
    "\n",
    "println(\" MAPI: \",integrate_dielectric(MAPI,1.0))\n",
    "println(\" MAPI_low: \",integrate_dielectric(MAPI_low,1.0))\n",
    "println(\" MAPI_SI: \",integrate_dielectric(MAPI_SI,V0))\n",
    "println(\" MAPI_SI: fudged epislon0 \",integrate_dielectric(MAPI_SI,V0)*ε0/(4*π))\n",
    "println(\" MAPI_SI_low: fudged epislon0 \",integrate_dielectric(MAPI_SI[19:33,:],V0)*ε0/(4*π))\n",
    "\n",
    "\n",
    "println()\n",
    "println(\"From ε_S-ε_Inf, expect this to be: \",ε_S-ε_Inf)"
   ]
  },
  {
   "cell_type": "code",
   "execution_count": 35,
   "metadata": {
    "collapsed": false
   },
   "outputs": [
    {
     "data": {
      "text/plain": [
       "0.25287232835842016"
      ]
     },
     "execution_count": 35,
     "metadata": {},
     "output_type": "execute_result"
    }
   ],
   "source": [
    "sum(MAPI[:,2]./MAPI[:,1].^2 )"
   ]
  },
  {
   "cell_type": "code",
   "execution_count": 36,
   "metadata": {
    "collapsed": false
   },
   "outputs": [
    {
     "data": {
      "text/plain": [
       "0.25207820895734634"
      ]
     },
     "execution_count": 36,
     "metadata": {},
     "output_type": "execute_result"
    }
   ],
   "source": [
    "sum(MAPI_low[:,2]./MAPI_low[:,1].^2 )"
   ]
  },
  {
   "cell_type": "code",
   "execution_count": 41,
   "metadata": {
    "collapsed": false
   },
   "outputs": [
    {
     "name": "stdout",
     "output_type": "stream",
     "text": [
      "Debye temperatures...\n",
      "MAPI: 2.25 THz: 107.98284026119079\n",
      "GaP: 12.066 THz: 579.1071730834212\n"
     ]
    }
   ],
   "source": [
    "println(\"Debye temperatures...\")\n",
    "freq=2.25E12 # Thz\n",
    "ω = (2*pi)*freq\n",
    "println(\"MAPI: 2.25 THz: \",hbar*ω/kB)\n",
    "\n",
    "# GaP:\n",
    "# 10.1002/pssb.2221200123\n",
    "# TO mode at Gamma: 402.5 cm^-1\n",
    "freq=12.06665E12 # Thz\n",
    "ω = (2*pi)*freq\n",
    "hbar*ω/kB\n",
    "println(\"GaP: 12.066 THz: \",hbar*ω/kB)\n"
   ]
  },
  {
   "cell_type": "code",
   "execution_count": 56,
   "metadata": {
    "collapsed": false
   },
   "outputs": [
    {
     "name": "stdout",
     "output_type": "stream",
     "text": [
      "MAPI: electron, α=2.40 meSmallAlpha(α)=0.5439999999999999 meLargeAlpha(α)=0.6701875199999999\n",
      "MAPI: hole,     α=2.68 meSmallAlpha(α)=0.6262266666666667 meLargeAlpha(α)=1.0420547691520003\n"
     ]
    },
    {
     "name": "stderr",
     "output_type": "stream",
     "text": [
      "WARNING: Method definition meSmallAlpha(Any) in module Main at In[55]:1 overwritten at In[56]:1.\n",
      "WARNING: Method definition meLargeAlpha(Any) in module Main at In[55]:3 overwritten at In[56]:3.\n",
      "WARNING: Method definition meLargeAlpha(Any) in module Main at In[56]:3 overwritten at In[56]:4.\n"
     ]
    }
   ],
   "source": [
    "meSmallAlpha(α)=α/6 + 0.025*α^2\n",
    "# (46) In Feynman1955\n",
    "meLargeAlpha(α)=16*α^4 / (81*π^4)\n",
    "meLargeAlpha(α)=202*(α/10)^4\n",
    "\n",
    "println(\"MAPI: electron, α=2.40 meSmallAlpha(α)=\",meSmallAlpha(2.40),\" meLargeAlpha(α)=\",meLargeAlpha(2.40))\n",
    "println(\"MAPI: hole,     α=2.68 meSmallAlpha(α)=\",meSmallAlpha(2.68),\" meLargeAlpha(α)=\",meLargeAlpha(2.68))"
   ]
  },
  {
   "cell_type": "code",
   "execution_count": null,
   "metadata": {
    "collapsed": false
   },
   "outputs": [],
   "source": []
  },
  {
   "cell_type": "code",
   "execution_count": null,
   "metadata": {
    "collapsed": false
   },
   "outputs": [],
   "source": []
  },
  {
   "cell_type": "code",
   "execution_count": null,
   "metadata": {
    "collapsed": true
   },
   "outputs": [],
   "source": []
  }
 ],
 "metadata": {
  "anaconda-cloud": {},
  "kernelspec": {
   "display_name": "Julia 0.5.0",
   "language": "julia",
   "name": "julia-0.5"
  },
  "language_info": {
   "file_extension": ".jl",
   "mimetype": "application/julia",
   "name": "julia",
   "version": "0.5.0"
  }
 },
 "nbformat": 4,
 "nbformat_minor": 1
}
